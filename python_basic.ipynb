{
  "cells": [
    {
      "cell_type": "markdown",
      "id": "312ec75e",
      "metadata": {
        "id": "312ec75e"
      },
      "source": [
        "# 파이썬 기초 배워보기\n",
        "\n",
        "이번 강의에서는 변수와 상수, 데이터의 타입, 제어문, 함수 등 기본적인 파이썬 문법과 패키지를 사용하는 방법에 대해 살펴보도록 한다.\n",
        "\n",
        "## 상수와 변수\n",
        "\n",
        "프로그래밍의 가장 기본은 **상수**와 **변수**이다."
      ]
    },
    {
      "cell_type": "code",
      "execution_count": 1,
      "id": "c77df616",
      "metadata": {
        "scrolled": true,
        "colab": {
          "base_uri": "https://localhost:8080/"
        },
        "id": "c77df616",
        "outputId": "1d19e2e7-3320-4acf-d265-526e79316ec0"
      },
      "outputs": [
        {
          "output_type": "stream",
          "name": "stdout",
          "text": [
            "10\n"
          ]
        }
      ],
      "source": [
        "var = 10\n",
        "print(var)"
      ]
    },
    {
      "cell_type": "markdown",
      "id": "df913cf9",
      "metadata": {
        "id": "df913cf9"
      },
      "source": [
        "10 이라는 숫자 혹은 문자와 같은 값 자체를 상수(constant)라고 한다. 반면 이러한 상수가 저장된 공간인 var는 변수(variable)라고 한다. `var = 10`은 var라는 변수에 10을 할당(저장)하라는 의미다. `print()`는 결과물을 출력하는 함수로써, var의 내용을 출력한다."
      ]
    },
    {
      "cell_type": "code",
      "execution_count": 2,
      "id": "f225dfb3",
      "metadata": {
        "colab": {
          "base_uri": "https://localhost:8080/"
        },
        "id": "f225dfb3",
        "outputId": "f81da956-796f-4ca2-b6bc-5daf30f246ad"
      },
      "outputs": [
        {
          "output_type": "stream",
          "name": "stdout",
          "text": [
            "Hello World\n"
          ]
        }
      ],
      "source": [
        "var = 'Hello World'\n",
        "print(var)"
      ]
    },
    {
      "cell_type": "markdown",
      "id": "de32a0ac",
      "metadata": {
        "id": "de32a0ac"
      },
      "source": [
        "var라는 변수에 새롭게 'Hellow World'라는 상수(문자)를 입력하였더니 그 값이 바뀌었다."
      ]
    },
    {
      "cell_type": "code",
      "execution_count": 3,
      "id": "959b481b",
      "metadata": {
        "colab": {
          "base_uri": "https://localhost:8080/"
        },
        "id": "959b481b",
        "outputId": "d2cc16e5-faac-4975-84e1-07c45ae411d0"
      },
      "outputs": [
        {
          "output_type": "stream",
          "name": "stdout",
          "text": [
            "3\n"
          ]
        }
      ],
      "source": [
        "var1 = 1\n",
        "var2 = 2\n",
        "\n",
        "print(var1 + var2)"
      ]
    },
    {
      "cell_type": "markdown",
      "id": "80087eb7",
      "metadata": {
        "id": "80087eb7"
      },
      "source": [
        "var1이라는 변수에는 1이라는 숫자가, var2이라는 변수에는 2라는 숫자를 입력하였다. `var1 + var2`는 1+2와 같으므로 3이라는 결과가 출력된다."
      ]
    },
    {
      "cell_type": "code",
      "execution_count": 4,
      "id": "4086084a",
      "metadata": {
        "colab": {
          "base_uri": "https://localhost:8080/"
        },
        "id": "4086084a",
        "outputId": "9e9f4ce1-68f5-434b-c727-b4b0d283c8ac"
      },
      "outputs": [
        {
          "output_type": "stream",
          "name": "stdout",
          "text": [
            "5\n"
          ]
        }
      ],
      "source": [
        "var1 = 3\n",
        "print(var1 + var2)"
      ]
    },
    {
      "cell_type": "markdown",
      "id": "c307e144",
      "metadata": {
        "id": "c307e144"
      },
      "source": [
        "var1이라는 변수에 다시 3이라는 숫자를 입력하면 `var1 + var2`는 3+2가 되므로 5라는 결과가 출력된다. 이처럼 변수에는 계속해서 다른 상수를 입력할 수 있다.\n",
        "\n",
        "## 데이터 타입\n",
        "\n",
        "파이썬에는 다양한 데이터 타입이 존재하며, 이에 대해 하나씩 알아보도록 하자.\n",
        "\n",
        "### 숫자형\n",
        "\n",
        "숫자형(Number)은 정수나 실수와 같이 숫자 형태로 이루어진 데이터 타입이다. (8진수나 16진수도 있으나 거의 사용하지 않는다).\n",
        "\n",
        "먼저 정수형(Integer)이란 -2, -1, 0, 1, 2처럼 소수점을 사용하지 않고 숫자를 표현한 것이다."
      ]
    },
    {
      "cell_type": "code",
      "execution_count": 5,
      "id": "b5e72cd4",
      "metadata": {
        "colab": {
          "base_uri": "https://localhost:8080/"
        },
        "id": "b5e72cd4",
        "outputId": "5037743f-6a00-4fe8-afe1-ca6bf09dc5a2"
      },
      "outputs": [
        {
          "output_type": "execute_result",
          "data": {
            "text/plain": [
              "int"
            ]
          },
          "metadata": {},
          "execution_count": 5
        }
      ],
      "source": [
        "type(1)"
      ]
    },
    {
      "cell_type": "markdown",
      "id": "383bd4dc",
      "metadata": {
        "id": "383bd4dc"
      },
      "source": [
        "`type()` 함수는 데이터 타입을 확인해주는 역할을 한다. 1이라는 숫자의 타입을 확인해보면 int, 즉 정수임을 알 수 있다. 한편 실수형(Floating-point)이란 소수점이 포함된 숫자다."
      ]
    },
    {
      "cell_type": "code",
      "execution_count": 6,
      "id": "5d7e5f77",
      "metadata": {
        "colab": {
          "base_uri": "https://localhost:8080/"
        },
        "id": "5d7e5f77",
        "outputId": "aac6891b-a02f-4f50-9273-f3af81a526bc"
      },
      "outputs": [
        {
          "output_type": "execute_result",
          "data": {
            "text/plain": [
              "float"
            ]
          },
          "metadata": {},
          "execution_count": 6
        }
      ],
      "source": [
        "type(1.0)"
      ]
    },
    {
      "cell_type": "markdown",
      "id": "fe933082",
      "metadata": {
        "id": "fe933082"
      },
      "source": [
        "1.0이라는 숫자의 타입을 확인해보면 float, 즉 실수임을 알 수 있다. 일반적으로 1과 1.0은 동일한 숫자라고 생각할 수 있지만, 프로그래밍에서 정수형과 실수형은 엄밀하게는 다른 타입이다.\n",
        "\n",
        "#### 숫자형 연산하기\n",
        "\n",
        "숫자형은 다양한 연산이 가능하다."
      ]
    },
    {
      "cell_type": "code",
      "execution_count": 7,
      "id": "fa3db626",
      "metadata": {
        "colab": {
          "base_uri": "https://localhost:8080/"
        },
        "id": "fa3db626",
        "outputId": "9dcff9fa-381f-47ee-e9f1-7beb06fdc3f4"
      },
      "outputs": [
        {
          "output_type": "stream",
          "name": "stdout",
          "text": [
            "3\n"
          ]
        }
      ],
      "source": [
        "print(2 + 1)"
      ]
    },
    {
      "cell_type": "code",
      "execution_count": 8,
      "id": "837ff6ca",
      "metadata": {
        "colab": {
          "base_uri": "https://localhost:8080/"
        },
        "id": "837ff6ca",
        "outputId": "d625d6b2-3f51-40f8-f50b-a75f1760fa68"
      },
      "outputs": [
        {
          "output_type": "stream",
          "name": "stdout",
          "text": [
            "1\n"
          ]
        }
      ],
      "source": [
        "print(2 - 1)"
      ]
    },
    {
      "cell_type": "code",
      "execution_count": 9,
      "id": "28428f0c",
      "metadata": {
        "colab": {
          "base_uri": "https://localhost:8080/"
        },
        "id": "28428f0c",
        "outputId": "f77916cc-f02b-4dc3-f6ba-3ac8f934b7d0"
      },
      "outputs": [
        {
          "output_type": "stream",
          "name": "stdout",
          "text": [
            "6\n"
          ]
        }
      ],
      "source": [
        "print(2 * 3)"
      ]
    },
    {
      "cell_type": "code",
      "execution_count": 10,
      "id": "1c8a3ffb",
      "metadata": {
        "colab": {
          "base_uri": "https://localhost:8080/"
        },
        "id": "1c8a3ffb",
        "outputId": "d341b235-3398-47bc-ca00-af9eba92bc55"
      },
      "outputs": [
        {
          "output_type": "stream",
          "name": "stdout",
          "text": [
            "3.0\n"
          ]
        }
      ],
      "source": [
        "print(6 / 2)"
      ]
    },
    {
      "cell_type": "markdown",
      "id": "3bbf5e35",
      "metadata": {
        "id": "3bbf5e35"
      },
      "source": [
        "파이썬에서는 기본적인 사칙연산(+, -, *, /)을 쉽게 할 수 있다. 이 외에도 다양한 연산자가 존재한다."
      ]
    },
    {
      "cell_type": "code",
      "execution_count": 11,
      "id": "21289a33",
      "metadata": {
        "colab": {
          "base_uri": "https://localhost:8080/"
        },
        "id": "21289a33",
        "outputId": "4bd3bdf6-98ca-4840-8c30-8082fa853b6d"
      },
      "outputs": [
        {
          "output_type": "execute_result",
          "data": {
            "text/plain": [
              "9"
            ]
          },
          "metadata": {},
          "execution_count": 11
        }
      ],
      "source": [
        "3 ** 2"
      ]
    },
    {
      "cell_type": "markdown",
      "id": "8f6eb20e",
      "metadata": {
        "id": "8f6eb20e"
      },
      "source": [
        "연산자 `**` 는 제곱을 의미한다. 즉 `3**2`는 $3^2$ 을 의미한다."
      ]
    },
    {
      "cell_type": "code",
      "execution_count": 12,
      "id": "8507ed68",
      "metadata": {
        "colab": {
          "base_uri": "https://localhost:8080/"
        },
        "id": "8507ed68",
        "outputId": "f04f7f8e-7b20-41c0-bf45-aef50908c955"
      },
      "outputs": [
        {
          "output_type": "execute_result",
          "data": {
            "text/plain": [
              "2"
            ]
          },
          "metadata": {},
          "execution_count": 12
        }
      ],
      "source": [
        "7 // 3"
      ]
    },
    {
      "cell_type": "markdown",
      "id": "0de0f848",
      "metadata": {
        "id": "0de0f848"
      },
      "source": [
        "연산자 `//`는 나눗셈의 몫을 반환한다. 7을 3으로 나누면 몫은 2가 된다."
      ]
    },
    {
      "cell_type": "code",
      "execution_count": 13,
      "id": "923cc94c",
      "metadata": {
        "colab": {
          "base_uri": "https://localhost:8080/"
        },
        "id": "923cc94c",
        "outputId": "e8ee48c6-2ace-4c67-8c2c-c3208cec1cda"
      },
      "outputs": [
        {
          "output_type": "execute_result",
          "data": {
            "text/plain": [
              "1"
            ]
          },
          "metadata": {},
          "execution_count": 13
        }
      ],
      "source": [
        "7 % 3"
      ]
    },
    {
      "cell_type": "markdown",
      "id": "57535311",
      "metadata": {
        "id": "57535311"
      },
      "source": [
        "연산자 `%`는 나눗셈의 나머지를 반환한다. 7을 3으로 나누면 몫은 2가 되며 나머지는 1이 된다.\n",
        "\n",
        "### 문자열\n",
        "\n",
        "문자열(String)이란 문자, 단어 등으로 구성된 문자들의 집합을 의미한다. 파이썬에서 문자열을 만드는 방법은 총 4가지가 있다."
      ]
    },
    {
      "cell_type": "code",
      "execution_count": 14,
      "id": "d4cd1bf8",
      "metadata": {
        "deletable": false,
        "editable": false,
        "run_control": {
          "frozen": true
        },
        "colab": {
          "base_uri": "https://localhost:8080/",
          "height": 35
        },
        "id": "d4cd1bf8",
        "outputId": "99ba4a87-2f82-474c-85c8-2018e950031b"
      },
      "outputs": [
        {
          "output_type": "execute_result",
          "data": {
            "text/plain": [
              "'Hello World'"
            ],
            "application/vnd.google.colaboratory.intrinsic+json": {
              "type": "string"
            }
          },
          "metadata": {},
          "execution_count": 14
        }
      ],
      "source": [
        "\"Hello World\""
      ]
    },
    {
      "cell_type": "markdown",
      "id": "2190f100",
      "metadata": {
        "id": "2190f100"
      },
      "source": [
        "먼저 큰 따옴표(\")로 양쪽을 둘러싸서 문자열을 만들 수 있다."
      ]
    },
    {
      "cell_type": "code",
      "execution_count": 15,
      "id": "6bc53a96",
      "metadata": {
        "deletable": false,
        "editable": false,
        "run_control": {
          "frozen": true
        },
        "colab": {
          "base_uri": "https://localhost:8080/",
          "height": 35
        },
        "id": "6bc53a96",
        "outputId": "6550f46a-1559-46b7-d3aa-2e973c3dc1b5"
      },
      "outputs": [
        {
          "output_type": "execute_result",
          "data": {
            "text/plain": [
              "'Hello World'"
            ],
            "application/vnd.google.colaboratory.intrinsic+json": {
              "type": "string"
            }
          },
          "metadata": {},
          "execution_count": 15
        }
      ],
      "source": [
        "'Hello World'"
      ]
    },
    {
      "cell_type": "markdown",
      "id": "cbd048f1",
      "metadata": {
        "id": "cbd048f1"
      },
      "source": [
        "따옴표(')로 양쪽을 둘러싸서도 문자열을 만들 수 있다."
      ]
    },
    {
      "cell_type": "code",
      "execution_count": 16,
      "id": "18f4a875",
      "metadata": {
        "deletable": false,
        "editable": false,
        "run_control": {
          "frozen": true
        },
        "colab": {
          "base_uri": "https://localhost:8080/",
          "height": 35
        },
        "id": "18f4a875",
        "outputId": "37b4249a-cd60-406e-9abb-1958ba3a7355"
      },
      "outputs": [
        {
          "output_type": "execute_result",
          "data": {
            "text/plain": [
              "'MaaS/스마트모빌리티 신기술 이해 및 기획/분석(with coding)'"
            ],
            "application/vnd.google.colaboratory.intrinsic+json": {
              "type": "string"
            }
          },
          "metadata": {},
          "execution_count": 16
        }
      ],
      "source": [
        "\"\"\"MaaS/스마트모빌리티 신기술 이해 및 기획/분석(with coding)\"\"\"\n",
        "'''MaaS/스마트모빌리티 신기술 이해 및 기획/분석(with coding)'''"
      ]
    },
    {
      "cell_type": "markdown",
      "id": "489d5112",
      "metadata": {
        "id": "489d5112"
      },
      "source": [
        "큰 따옴표 3개를 연속(\"\"\")으로 양쪽을 둘러싸거나, 작은 따옴표 3개를 연속(''')으로 써서 양쪽을 둘러싸서도 문자열을 만들 수 있다. 따옴표를 3개 사용할 경우 줄 바꿈을 통해 여러줄의 문자열을 만들 수 있다."
      ]
    },
    {
      "cell_type": "code",
      "execution_count": 17,
      "id": "c263241e",
      "metadata": {
        "colab": {
          "base_uri": "https://localhost:8080/"
        },
        "id": "c263241e",
        "outputId": "dfdd4223-a743-4760-c22a-2bf5bca1bf6f"
      },
      "outputs": [
        {
          "output_type": "stream",
          "name": "stdout",
          "text": [
            "Life is too short\n",
            "You need python\n"
          ]
        }
      ],
      "source": [
        "multiline = \"\"\"Life is too short\n",
        "You need python\"\"\"\n",
        "\n",
        "print(multiline)"
      ]
    },
    {
      "cell_type": "markdown",
      "id": "3813a079",
      "metadata": {
        "id": "3813a079"
      },
      "source": [
        "파이썬에서는 문자열도 더하거나 곱할 수 있다."
      ]
    },
    {
      "cell_type": "code",
      "execution_count": 18,
      "id": "84a696fb",
      "metadata": {
        "colab": {
          "base_uri": "https://localhost:8080/",
          "height": 35
        },
        "id": "84a696fb",
        "outputId": "3fa1e227-404c-4558-f395-a92b7668b1d4"
      },
      "outputs": [
        {
          "output_type": "execute_result",
          "data": {
            "text/plain": [
              "'Hello World'"
            ],
            "application/vnd.google.colaboratory.intrinsic+json": {
              "type": "string"
            }
          },
          "metadata": {},
          "execution_count": 18
        }
      ],
      "source": [
        "a = 'Hello'\n",
        "b = ' World'\n",
        "\n",
        "a + b"
      ]
    },
    {
      "cell_type": "markdown",
      "id": "1eae6f9b",
      "metadata": {
        "id": "1eae6f9b"
      },
      "source": [
        "a라는 변수에 'Hello'라는 글자를, b라는 변수에 ' World'라는 글자를 입력한 후 두 변수를 더하면 두 글자가 합쳐진다."
      ]
    },
    {
      "cell_type": "code",
      "execution_count": 19,
      "id": "306a1d35",
      "metadata": {
        "colab": {
          "base_uri": "https://localhost:8080/",
          "height": 35
        },
        "id": "306a1d35",
        "outputId": "51bd606a-19c7-44b8-81cd-5bd75da0783a"
      },
      "outputs": [
        {
          "output_type": "execute_result",
          "data": {
            "text/plain": [
              "'MaaSMaaSMaaS'"
            ],
            "application/vnd.google.colaboratory.intrinsic+json": {
              "type": "string"
            }
          },
          "metadata": {},
          "execution_count": 19
        }
      ],
      "source": [
        "c = 'MaaS'\n",
        "\n",
        "c * 3"
      ]
    },
    {
      "cell_type": "markdown",
      "id": "a705ebc3",
      "metadata": {
        "id": "a705ebc3"
      },
      "source": [
        "이번에는 c라는 변수에 'MaaS'를 입력한 후 3을 곱하면, c가 세 번 반복된다.\n",
        "\n",
        "#### f-string 포매팅\n",
        "\n",
        "문자열에서 특정 부분만이 바뀌고 나머지 부분은 일정할 경우, 파이썬에서는 f-string 포매팅을 이용해 매우 쉽게 나타낼 수 있다. (해당 기능은 파이썬 3.6 버전 이상부터 사용이 가능하다.)"
      ]
    },
    {
      "cell_type": "code",
      "execution_count": 20,
      "id": "b3e55e31",
      "metadata": {
        "colab": {
          "base_uri": "https://localhost:8080/",
          "height": 35
        },
        "id": "b3e55e31",
        "outputId": "09b60651-fc34-465b-af3a-1bde3bfb9b19"
      },
      "outputs": [
        {
          "output_type": "execute_result",
          "data": {
            "text/plain": [
              "'나의 이름은 현대NGV이며, 2000년에 태어났습니다.'"
            ],
            "application/vnd.google.colaboratory.intrinsic+json": {
              "type": "string"
            }
          },
          "metadata": {},
          "execution_count": 20
        }
      ],
      "source": [
        "name = '현대NGV'\n",
        "birth = '2000'\n",
        "\n",
        "f'나의 이름은 {name}이며, {birth}년에 태어났습니다.'"
      ]
    },
    {
      "cell_type": "markdown",
      "id": "3ca75d27",
      "metadata": {
        "id": "3ca75d27"
      },
      "source": [
        "f-string의 형태는 `f'문자열 {변수} 문자열'` 이다. 즉 문자열 맨 앞에 f를 붙이면 f-string 포매팅이 선언되며, 중괄호 안에 변수를 넣으면 해당 부분에 변수의 값이 입력된다.\n",
        "\n",
        "#### 문자열 길이 구하기\n",
        "\n",
        "문자열의 길이를 구할때는 `len()` 함수가 사용된다."
      ]
    },
    {
      "cell_type": "code",
      "execution_count": 21,
      "id": "b93980f3",
      "metadata": {
        "colab": {
          "base_uri": "https://localhost:8080/"
        },
        "id": "b93980f3",
        "outputId": "a10c787f-0192-40d2-fe39-4c80544b4487"
      },
      "outputs": [
        {
          "output_type": "execute_result",
          "data": {
            "text/plain": [
              "17"
            ]
          },
          "metadata": {},
          "execution_count": 21
        }
      ],
      "source": [
        "a = 'Life is too short'\n",
        "len(a)"
      ]
    },
    {
      "cell_type": "markdown",
      "id": "f27c402b",
      "metadata": {
        "id": "f27c402b"
      },
      "source": [
        "'Life is too short'이라는 문장은 빈 칸을 포함하여 총 17 글자로 이루어져 있다.\n",
        "\n",
        "#### 문자열 치환하기\n",
        "\n",
        "특정한 문자를 다른 문자로 바꾸는데는 `replace()` 함수가 사용된다."
      ]
    },
    {
      "cell_type": "code",
      "execution_count": 22,
      "id": "bf18259f",
      "metadata": {
        "colab": {
          "base_uri": "https://localhost:8080/",
          "height": 35
        },
        "id": "bf18259f",
        "outputId": "b7dab943-91ee-4c67-ffa2-968c97f5cf42"
      },
      "outputs": [
        {
          "output_type": "execute_result",
          "data": {
            "text/plain": [
              "'MaaS/스마트모빌리티_신기술_이해_및_기획/분석(with_coding)'"
            ],
            "application/vnd.google.colaboratory.intrinsic+json": {
              "type": "string"
            }
          },
          "metadata": {},
          "execution_count": 22
        }
      ],
      "source": [
        "var = 'MaaS/스마트모빌리티 신기술 이해 및 기획/분석(with coding)'\n",
        "var.replace(' ', '_')"
      ]
    },
    {
      "cell_type": "markdown",
      "id": "0c00c997",
      "metadata": {
        "id": "0c00c997"
      },
      "source": [
        "\n",
        "\n",
        "먼저 var 변수에 'MaaS/스마트모빌리티 신기술 이해 및 기획/분석(with coding)'라는 문자열을 입력했다. 그 후 `문자열.replace(a, b)` 메서드를 사용하면 문자열에서 a라는 문자를 b라는 문자로 바꿀 수 있다. 즉 ' '는 공백을 의미하여, 이러한 공백을 모두 밑줄(_)로 변경하였다.\n",
        "\n",
        "#### 문자열 나누기\n",
        "\n",
        "`split()` 메서드를 이용하면 문자열을 나눌 수 있다."
      ]
    },
    {
      "cell_type": "code",
      "execution_count": 23,
      "id": "a4ee6ee2",
      "metadata": {
        "colab": {
          "base_uri": "https://localhost:8080/"
        },
        "id": "a4ee6ee2",
        "outputId": "3305008c-853d-41f5-91b4-4edf498b3f7f"
      },
      "outputs": [
        {
          "output_type": "execute_result",
          "data": {
            "text/plain": [
              "['MaaS/스마트모빌리티', '신기술', '이해', '및', '기획/분석(with', 'coding)']"
            ]
          },
          "metadata": {},
          "execution_count": 23
        }
      ],
      "source": [
        "var = 'MaaS/스마트모빌리티 신기술 이해 및 기획/분석(with coding)'\n",
        "var.split(' ')"
      ]
    },
    {
      "cell_type": "markdown",
      "id": "7df4b84f",
      "metadata": {
        "id": "7df4b84f"
      },
      "source": [
        "`split()` 메서드 내부에 값을 입력하면, 해당 값을 기준으로 문자열을 나눠준다. 위 예제에서는 공백(' ')을 기준으로 각각의 단어를 나누었다.\n",
        "\n",
        "#### 문자열 인덱싱과 슬라이싱\n",
        "\n",
        "인덱싱(Indexing)이란 문자열 중 특정 위치의 값을 가져오는 것이며, 슬라이싱(Slicing)이란 특정 위치가 아닌 범위에 해당하는 문자열을 가지고 오는 것이다."
      ]
    },
    {
      "cell_type": "code",
      "execution_count": 24,
      "id": "fe9dc94a",
      "metadata": {
        "colab": {
          "base_uri": "https://localhost:8080/",
          "height": 35
        },
        "id": "fe9dc94a",
        "outputId": "4030c8c8-d61c-42c5-becd-d8e235fa825a"
      },
      "outputs": [
        {
          "output_type": "execute_result",
          "data": {
            "text/plain": [
              "'a'"
            ],
            "application/vnd.google.colaboratory.intrinsic+json": {
              "type": "string"
            }
          },
          "metadata": {},
          "execution_count": 24
        }
      ],
      "source": [
        "var = 'MaaS'\n",
        "\n",
        "var[2]"
      ]
    },
    {
      "cell_type": "markdown",
      "id": "cee9c923",
      "metadata": {
        "id": "cee9c923"
      },
      "source": [
        "인덱싱과 슬라이싱은 대괄호([ ])를 사용해서 표현한다. `var[2]`란 두번째 문자를 의미하며, 이에 해당하는 'a'이 출력되었다. **참고로 파이썬은 숫자를 1이 아닌 0부터 세므로** 'MaaS'에서 M은 `var[0]`, a는 `var[1]`, 뒤의 a는 `var[2]`에 해당한다.\n",
        "\n",
        "```{table} 문자열의 순서\n",
        ":name: char_order\n",
        "|단어|M|a|a|S|\n",
        "|---|---|---|---|---|---|\n",
        "|위치|0|1|2|3|\n",
        "```"
      ]
    },
    {
      "cell_type": "code",
      "execution_count": 25,
      "id": "933ffd91",
      "metadata": {
        "colab": {
          "base_uri": "https://localhost:8080/",
          "height": 35
        },
        "id": "933ffd91",
        "outputId": "f22a3dce-5725-4d8e-86ae-e50ecb9ee729"
      },
      "outputs": [
        {
          "output_type": "execute_result",
          "data": {
            "text/plain": [
              "'a'"
            ],
            "application/vnd.google.colaboratory.intrinsic+json": {
              "type": "string"
            }
          },
          "metadata": {},
          "execution_count": 25
        }
      ],
      "source": [
        "var[-2]"
      ]
    },
    {
      "cell_type": "markdown",
      "id": "2359e642",
      "metadata": {
        "id": "2359e642"
      },
      "source": [
        "인덱싱에 마이너스(-) 기호를 붙이면 문자열을 뒤에서부터 읽는다. 즉 `var[-2]`은 뒤에서 두번째 문자를 의미하며 이에 해당하는 'a'이 출력되었다."
      ]
    },
    {
      "cell_type": "code",
      "execution_count": 26,
      "id": "50f7e74a",
      "metadata": {
        "colab": {
          "base_uri": "https://localhost:8080/",
          "height": 35
        },
        "id": "50f7e74a",
        "outputId": "5f5eedc4-4eb2-455e-c968-33e00945612d"
      },
      "outputs": [
        {
          "output_type": "execute_result",
          "data": {
            "text/plain": [
              "'Maa'"
            ],
            "application/vnd.google.colaboratory.intrinsic+json": {
              "type": "string"
            }
          },
          "metadata": {},
          "execution_count": 26
        }
      ],
      "source": [
        "var[0:3]"
      ]
    },
    {
      "cell_type": "markdown",
      "id": "df50012a",
      "metadata": {
        "id": "df50012a"
      },
      "source": [
        "슬라이싱은 [] 내부에 콜론(:) 기호를 사용하여 `시작:마지막`에 해당하는 문자를 출력한다. 즉 `var[0]` 부터 `var[3]`까지를 출력한다. 그런데 MaaS에서 3에 해당하는 단어는 S임에도 불구하고 그 이전인 Maa 까지만 출력이 되었다. 이는 슬리이싱에서 `var[시작:마지막]`을 지정할 때 마지막 번호에 해당하는 단어는 포함되지 않기 때문이며, `var[0:3]`은 0 이상 3 미만에 해당하는 문자만 출력한다."
      ]
    },
    {
      "cell_type": "code",
      "execution_count": 27,
      "id": "c58a028d",
      "metadata": {
        "colab": {
          "base_uri": "https://localhost:8080/",
          "height": 35
        },
        "id": "c58a028d",
        "outputId": "b8da35e8-36dd-4009-e346-d76cbae97099"
      },
      "outputs": [
        {
          "output_type": "execute_result",
          "data": {
            "text/plain": [
              "'Ma'"
            ],
            "application/vnd.google.colaboratory.intrinsic+json": {
              "type": "string"
            }
          },
          "metadata": {},
          "execution_count": 27
        }
      ],
      "source": [
        "var[:2]"
      ]
    },
    {
      "cell_type": "markdown",
      "id": "3f18f93e",
      "metadata": {
        "id": "3f18f93e"
      },
      "source": [
        "시작에 해당하는 부분을 명시하지 않으면 처음(0)부터 2 미만까지의 문자를 출력한다."
      ]
    },
    {
      "cell_type": "code",
      "execution_count": 28,
      "id": "f5906b72",
      "metadata": {
        "colab": {
          "base_uri": "https://localhost:8080/",
          "height": 35
        },
        "id": "f5906b72",
        "outputId": "1c7747d0-8b5f-4af4-f85d-fe11f9252c15"
      },
      "outputs": [
        {
          "output_type": "execute_result",
          "data": {
            "text/plain": [
              "'S'"
            ],
            "application/vnd.google.colaboratory.intrinsic+json": {
              "type": "string"
            }
          },
          "metadata": {},
          "execution_count": 28
        }
      ],
      "source": [
        "var[3: ]"
      ]
    },
    {
      "cell_type": "markdown",
      "id": "d2a59f4a",
      "metadata": {
        "id": "d2a59f4a"
      },
      "source": [
        "반대로 마지막에 해당하는 부분을 명시하지 않으면 3부터 마지막까지 문자를 출력한다.\n",
        "\n",
        "### 리스트\n",
        "\n",
        "파이썬에서는 연속된 데이터를 표현하기 위해 리스트(List) 자료형을 사용한다."
      ]
    },
    {
      "cell_type": "code",
      "execution_count": 29,
      "id": "507a669e",
      "metadata": {
        "colab": {
          "base_uri": "https://localhost:8080/"
        },
        "id": "507a669e",
        "outputId": "a0746a04-03ab-4066-f0dc-d94d5b6c419d"
      },
      "outputs": [
        {
          "output_type": "execute_result",
          "data": {
            "text/plain": [
              "list"
            ]
          },
          "metadata": {},
          "execution_count": 29
        }
      ],
      "source": [
        "a = []\n",
        "type(a)"
      ]
    },
    {
      "cell_type": "markdown",
      "id": "78f55da3",
      "metadata": {
        "id": "78f55da3"
      },
      "source": [
        "리스트는 대괄호([ ])를 이용하여 생성할 수 있으며, 아무 값도 입력하지 않을 경우 빈 리스트가 생성된다."
      ]
    },
    {
      "cell_type": "code",
      "execution_count": 30,
      "id": "ebecd133",
      "metadata": {
        "colab": {
          "base_uri": "https://localhost:8080/"
        },
        "id": "ebecd133",
        "outputId": "a677da23-a750-4801-cdfc-5922b78cb1f7"
      },
      "outputs": [
        {
          "output_type": "stream",
          "name": "stdout",
          "text": [
            "[1, 2, 3]\n"
          ]
        }
      ],
      "source": [
        "list_num = [1, 2, 3]\n",
        "print(list_num)"
      ]
    },
    {
      "cell_type": "code",
      "execution_count": 31,
      "id": "b634db25",
      "metadata": {
        "colab": {
          "base_uri": "https://localhost:8080/"
        },
        "id": "b634db25",
        "outputId": "f5f92954-cd8d-43d3-8e70-2d23fbe2ee7f"
      },
      "outputs": [
        {
          "output_type": "stream",
          "name": "stdout",
          "text": [
            "['a', 'b', 'c']\n"
          ]
        }
      ],
      "source": [
        "list_char = ['a', 'b', 'c']\n",
        "print(list_char)"
      ]
    },
    {
      "cell_type": "code",
      "execution_count": 32,
      "id": "c528cb6e",
      "metadata": {
        "colab": {
          "base_uri": "https://localhost:8080/"
        },
        "id": "c528cb6e",
        "outputId": "d619c01a-ae68-4476-d7d4-f9840867d193"
      },
      "outputs": [
        {
          "output_type": "stream",
          "name": "stdout",
          "text": [
            "[1, 'a', 2]\n"
          ]
        }
      ],
      "source": [
        "list_complex = [1, 'a', 2]\n",
        "print(list_complex)"
      ]
    },
    {
      "cell_type": "markdown",
      "id": "46ad7401",
      "metadata": {
        "id": "46ad7401"
      },
      "source": [
        "리스트 내부에 각 요소는 쉼표(,)를 이용해 구분해준다. 요소값은 숫자(list_num), 문자열(list_char), 혹은 숫자와 문자열(list_complex)을 함께 가질 수도 있다."
      ]
    },
    {
      "cell_type": "code",
      "execution_count": 33,
      "id": "7a3ab21c",
      "metadata": {
        "colab": {
          "base_uri": "https://localhost:8080/"
        },
        "id": "7a3ab21c",
        "outputId": "aa07fdcf-4527-4d2d-a281-e342aaef490d"
      },
      "outputs": [
        {
          "output_type": "stream",
          "name": "stdout",
          "text": [
            "[1, 2, ['a', 'b']]\n"
          ]
        }
      ],
      "source": [
        "list_nest = [1, 2, ['a', 'b']]\n",
        "print(list_nest)"
      ]
    },
    {
      "cell_type": "markdown",
      "id": "2894ca68",
      "metadata": {
        "id": "2894ca68"
      },
      "source": [
        "혹은 리스트 자체를 하나의 요솟값으로 가질 수도 있다. 즉 리스트 안에는 어떠한 자료형도 들어갈 수 있다.\n",
        "\n",
        "#### 리스트 인덱싱과 슬라이싱\n",
        "\n",
        "리스트도 문자열과 동일한 방법으로 인덱싱과 슬라이싱을 할 수 있다."
      ]
    },
    {
      "cell_type": "code",
      "execution_count": 34,
      "id": "e24013f7",
      "metadata": {
        "colab": {
          "base_uri": "https://localhost:8080/"
        },
        "id": "e24013f7",
        "outputId": "f07907a8-fc3c-4beb-b83a-88e28993f372"
      },
      "outputs": [
        {
          "output_type": "execute_result",
          "data": {
            "text/plain": [
              "1"
            ]
          },
          "metadata": {},
          "execution_count": 34
        }
      ],
      "source": [
        "var = [1, 2, ['a', 'b', 'c']]\n",
        "\n",
        "var[0]"
      ]
    },
    {
      "cell_type": "markdown",
      "id": "442b9864",
      "metadata": {
        "id": "442b9864"
      },
      "source": [
        "문자열과 동일하게 `var[0]`을 입력할 경우 해당 요소값인 1이 출력된다."
      ]
    },
    {
      "cell_type": "code",
      "execution_count": 35,
      "id": "0f8bc657",
      "metadata": {
        "colab": {
          "base_uri": "https://localhost:8080/"
        },
        "id": "0f8bc657",
        "outputId": "0ba44e72-defb-4a18-9d73-bb01338d1439"
      },
      "outputs": [
        {
          "output_type": "execute_result",
          "data": {
            "text/plain": [
              "['a', 'b', 'c']"
            ]
          },
          "metadata": {},
          "execution_count": 35
        }
      ],
      "source": [
        "var[2]"
      ]
    },
    {
      "cell_type": "markdown",
      "id": "0c66021d",
      "metadata": {
        "id": "0c66021d"
      },
      "source": [
        "`var[2]`를 입력할 경우 ['a', 'b', 'c']라는 리스트가 출력된다. 추가로 ['a', 'b', 'c'] 리스트에서 'a'라는 문자열만 추출하는 방법은 다음과 같다."
      ]
    },
    {
      "cell_type": "code",
      "execution_count": 36,
      "id": "62c25bca",
      "metadata": {
        "colab": {
          "base_uri": "https://localhost:8080/",
          "height": 35
        },
        "id": "62c25bca",
        "outputId": "b6e7d80b-5776-4896-d02c-5fb795972fc8"
      },
      "outputs": [
        {
          "output_type": "execute_result",
          "data": {
            "text/plain": [
              "'a'"
            ],
            "application/vnd.google.colaboratory.intrinsic+json": {
              "type": "string"
            }
          },
          "metadata": {},
          "execution_count": 36
        }
      ],
      "source": [
        "var[2][0]"
      ]
    },
    {
      "cell_type": "markdown",
      "id": "194bc2f9",
      "metadata": {
        "id": "194bc2f9"
      },
      "source": [
        "먼저 `var[2]`를 통해 ['a', 'b', 'c']를 추출하며, 뒤에 `[0]`을 추가적으로 붙여 첫번째 요소인 'a'가 출력된다. 이처럼 중첩된 리스트에서도 인덱싱은 여러번 하면 얼마든지 원하는 값을 선택할 수 있다. 이번에는 리스트의 슬라이싱에 대해서 살펴보자."
      ]
    },
    {
      "cell_type": "code",
      "execution_count": 37,
      "id": "ba66bd4a",
      "metadata": {
        "colab": {
          "base_uri": "https://localhost:8080/"
        },
        "id": "ba66bd4a",
        "outputId": "9a43dcb4-4535-494f-b0a1-beafc8aedde2"
      },
      "outputs": [
        {
          "output_type": "execute_result",
          "data": {
            "text/plain": [
              "[1, 2]"
            ]
          },
          "metadata": {},
          "execution_count": 37
        }
      ],
      "source": [
        "var = [1, 2, 3, 4, 5]\n",
        "var[0:2]"
      ]
    },
    {
      "cell_type": "markdown",
      "id": "ceb7b43d",
      "metadata": {
        "id": "ceb7b43d"
      },
      "source": [
        "문자열의 슬라이싱과 동일하게 `var[0:2]`를 입력하면 리스트 a의 0 이상 2 미만에 해당하는 요소들이 출력된다.\n",
        "\n",
        "#### 리스트 연산하기\n",
        "\n",
        "리스트도 `+`, `*` 연산을 제한적으로 사용할 수 있다."
      ]
    },
    {
      "cell_type": "code",
      "execution_count": 38,
      "id": "7968a427",
      "metadata": {
        "colab": {
          "base_uri": "https://localhost:8080/"
        },
        "id": "7968a427",
        "outputId": "224af748-cb03-46e8-cc59-b6d880fb8ba8"
      },
      "outputs": [
        {
          "output_type": "execute_result",
          "data": {
            "text/plain": [
              "[1, 2, 3, 4, 5, 6]"
            ]
          },
          "metadata": {},
          "execution_count": 38
        }
      ],
      "source": [
        "a = [1, 2, 3]\n",
        "b = [4, 5, 6]\n",
        "\n",
        "a+b"
      ]
    },
    {
      "cell_type": "markdown",
      "id": "d88d83c9",
      "metadata": {
        "id": "d88d83c9"
      },
      "source": [
        "리스트 사이에 `+` 기호를 사용하면 두 리스트를 하나로 합친다."
      ]
    },
    {
      "cell_type": "code",
      "execution_count": 39,
      "id": "89eba221",
      "metadata": {
        "colab": {
          "base_uri": "https://localhost:8080/"
        },
        "id": "89eba221",
        "outputId": "40a57889-cc46-4041-8cd1-8847fba5706d"
      },
      "outputs": [
        {
          "output_type": "execute_result",
          "data": {
            "text/plain": [
              "[1, 2, 3, 1, 2, 3, 1, 2, 3]"
            ]
          },
          "metadata": {},
          "execution_count": 39
        }
      ],
      "source": [
        "a = [1, 2, 3]\n",
        "a * 3"
      ]
    },
    {
      "cell_type": "markdown",
      "id": "de605d72",
      "metadata": {
        "id": "de605d72"
      },
      "source": [
        "리스트에 `*` 기호를 사용하면 해당 리스트를 n번 반복한다.\n",
        "\n",
        "#### 리스트에 요소 추가하기\n",
        "\n",
        "다양한 방법을 통해 기존의 리스트에 새로운 데이터를 추가하거나 삽입할 수 있다."
      ]
    },
    {
      "cell_type": "code",
      "execution_count": 40,
      "id": "1d06efaf",
      "metadata": {
        "colab": {
          "base_uri": "https://localhost:8080/"
        },
        "id": "1d06efaf",
        "outputId": "04d1365b-9484-4f9b-ef5f-9a63dd95f26a"
      },
      "outputs": [
        {
          "output_type": "stream",
          "name": "stdout",
          "text": [
            "[1, 2, 3, 4]\n"
          ]
        }
      ],
      "source": [
        "var = [1, 2, 3]\n",
        "var.append(4)\n",
        "print(var)"
      ]
    },
    {
      "cell_type": "markdown",
      "id": "37cf0bae",
      "metadata": {
        "id": "37cf0bae"
      },
      "source": [
        "`append()` 메서드는 기존의 리스트 맨 마지막에 데이터를 추가한다."
      ]
    },
    {
      "cell_type": "code",
      "execution_count": 41,
      "id": "7aedbd82",
      "metadata": {
        "colab": {
          "base_uri": "https://localhost:8080/"
        },
        "id": "7aedbd82",
        "outputId": "a89143db-08f4-4790-82a6-290045300575"
      },
      "outputs": [
        {
          "output_type": "stream",
          "name": "stdout",
          "text": [
            "[1, 2, 3, [4, 5]]\n"
          ]
        }
      ],
      "source": [
        "var = [1, 2, 3]\n",
        "var.append([4, 5])\n",
        "print(var)"
      ]
    },
    {
      "cell_type": "markdown",
      "id": "a5379778",
      "metadata": {
        "id": "a5379778"
      },
      "source": [
        "만약 `append()` 메서드 내에 리스트 형태를 입력할 경우 중첩된 형태로 데이터가 추가된다. 리스트에 새로운 리스트를 중첩된 형태가 아니라 리스트 형태로 확장하고 싶을 경우에는 `extend()` 메서드를 사용하면 된다."
      ]
    },
    {
      "cell_type": "code",
      "execution_count": 42,
      "id": "58e029f6",
      "metadata": {
        "colab": {
          "base_uri": "https://localhost:8080/"
        },
        "id": "58e029f6",
        "outputId": "e3b47591-9d44-471a-e19d-45dcf06b8887"
      },
      "outputs": [
        {
          "output_type": "stream",
          "name": "stdout",
          "text": [
            "[1, 2, 3, 4, 5]\n"
          ]
        }
      ],
      "source": [
        "var = [1, 2, 3]\n",
        "var.extend([4, 5])\n",
        "print(var)"
      ]
    },
    {
      "cell_type": "markdown",
      "id": "23ad2b47",
      "metadata": {
        "id": "23ad2b47"
      },
      "source": [
        "`extend()` 메서드 내의 리스트인 [4, 5]가 중첩된 형태가 아니라 기존 데이터인 [1, 2, 3] 뒤에 확장이 되었다.\n",
        "\n",
        "#### 리스트의 수정과 삭제\n",
        "\n",
        "인덱싱과 슬라이싱을 이용하면 리스트의 요소를 수정 혹은 삭제할 수 있다."
      ]
    },
    {
      "cell_type": "code",
      "execution_count": 43,
      "id": "9cc333d3",
      "metadata": {
        "colab": {
          "base_uri": "https://localhost:8080/"
        },
        "id": "9cc333d3",
        "outputId": "0614d6a2-47f1-4105-fe28-baf878ca4ce2"
      },
      "outputs": [
        {
          "output_type": "stream",
          "name": "stdout",
          "text": [
            "[1, 2, 10, 4, 5]\n"
          ]
        }
      ],
      "source": [
        "var = [1,2,3,4,5]\n",
        "var[2] = 10\n",
        "print(var)"
      ]
    },
    {
      "cell_type": "markdown",
      "id": "3b03ba33",
      "metadata": {
        "id": "3b03ba33"
      },
      "source": [
        "먼저 var라는 변수에 1부터 5까지 숫자로 구성된 리스트를 만들었다. 그 후 var의 두번재 요소에 10을 입력하면 해당 값으로 요소가 변경되었다."
      ]
    },
    {
      "cell_type": "code",
      "execution_count": 44,
      "id": "4c7f423f",
      "metadata": {
        "colab": {
          "base_uri": "https://localhost:8080/"
        },
        "id": "4c7f423f",
        "outputId": "0284ae99-4c55-4e5d-e207-602e02efe990"
      },
      "outputs": [
        {
          "output_type": "stream",
          "name": "stdout",
          "text": [
            "[1, 2, 10, ['a', 'b', 'c'], 5]\n"
          ]
        }
      ],
      "source": [
        "var[3] = ['a', 'b', 'c']\n",
        "print(var)"
      ]
    },
    {
      "cell_type": "markdown",
      "id": "9acd70ea",
      "metadata": {
        "id": "9acd70ea"
      },
      "source": [
        "이번에는 세번째 요소를 ['a', 'b', 'c']라는 요소로 변경하였다."
      ]
    },
    {
      "cell_type": "code",
      "execution_count": 45,
      "id": "0e3f97e6",
      "metadata": {
        "colab": {
          "base_uri": "https://localhost:8080/"
        },
        "id": "0e3f97e6",
        "outputId": "4dd3c4e1-77c1-4b05-93c0-f83094798d9d"
      },
      "outputs": [
        {
          "output_type": "stream",
          "name": "stdout",
          "text": [
            "['가', '나', 10, ['a', 'b', 'c'], 5]\n"
          ]
        }
      ],
      "source": [
        "var[0 : 2] = ['가', '나']\n",
        "print(var)"
      ]
    },
    {
      "cell_type": "markdown",
      "id": "7f7e10eb",
      "metadata": {
        "id": "7f7e10eb"
      },
      "source": [
        "슬라이싱을 이용해 데이터를 수정할 수도 있다. `var[0 : 2]`는 0 부터 1 까지의 데이터를 의미하며, 해당 데이터를 ['가', '나']로 변경하였다.\n",
        "\n",
        "이번에는 리스트에서 요소를 삭제하는 방법에 대해 살펴보겠으며, 먼지 `del` 명령어를 사용하는 방법에 대해 알아보자."
      ]
    },
    {
      "cell_type": "code",
      "execution_count": 46,
      "id": "cc50e413",
      "metadata": {
        "colab": {
          "base_uri": "https://localhost:8080/"
        },
        "id": "cc50e413",
        "outputId": "93fd57ed-eb76-4df5-eab1-9425693fcd0e"
      },
      "outputs": [
        {
          "output_type": "stream",
          "name": "stdout",
          "text": [
            "[2, 3]\n"
          ]
        }
      ],
      "source": [
        "var = [1, 2, 3]\n",
        "del var[0]\n",
        "print(var)"
      ]
    },
    {
      "cell_type": "markdown",
      "id": "1f564b00",
      "metadata": {
        "id": "1f564b00"
      },
      "source": [
        "`del 객체`를 이용하여 데이터를 삭제할 수 있다. 위의 예제에서 `del var[0]`는 var에서 첫번째 요소를 삭제하라는 의미다. 인덱싱 뿐만 아니라 `dal var[0:2]`와 같이 슬라이싱을 통해서도 데이터를 삭제할 수 있다."
      ]
    },
    {
      "cell_type": "code",
      "execution_count": 47,
      "id": "3a4bee93",
      "metadata": {
        "colab": {
          "base_uri": "https://localhost:8080/"
        },
        "id": "3a4bee93",
        "outputId": "14c5cd68-4a0b-4676-f863-57223b3c1bf4"
      },
      "outputs": [
        {
          "output_type": "stream",
          "name": "stdout",
          "text": [
            "[2, 3]\n"
          ]
        }
      ],
      "source": [
        "var = [1, 2, 3]\n",
        "var[0:1] = []\n",
        "print(var)"
      ]
    },
    {
      "cell_type": "markdown",
      "id": "5f68bd40",
      "metadata": {
        "id": "5f68bd40"
      },
      "source": [
        "슬라이싱을 통해 범위를 지정한 후 빈 리스트([])를 입력하여 해당 부분의 데이터를 삭제할 수도 있다."
      ]
    },
    {
      "cell_type": "code",
      "execution_count": 48,
      "id": "c7a6bbb1",
      "metadata": {
        "colab": {
          "base_uri": "https://localhost:8080/"
        },
        "id": "c7a6bbb1",
        "outputId": "33c8b441-3df8-4d56-d02a-3c16455c53e9"
      },
      "outputs": [
        {
          "output_type": "stream",
          "name": "stdout",
          "text": [
            "[2, 3, 1, 2, 3]\n"
          ]
        }
      ],
      "source": [
        "var = [1, 2, 3, 1, 2, 3]\n",
        "var.remove(1)\n",
        "print(var)"
      ]
    },
    {
      "cell_type": "markdown",
      "id": "06610443",
      "metadata": {
        "id": "06610443"
      },
      "source": [
        "`remove(x)` 메서드는 리스트에서 첫 번째로 나오는 x를 삭제하는 함수이다. 위 예제에서는 가장 먼저 나오는 1이 삭제된 것을 확인할 수 있다."
      ]
    },
    {
      "cell_type": "code",
      "execution_count": 49,
      "id": "44d363b6",
      "metadata": {
        "colab": {
          "base_uri": "https://localhost:8080/"
        },
        "id": "44d363b6",
        "outputId": "24a8a2b1-2fa4-4466-8d91-6e56e9e5e00c"
      },
      "outputs": [
        {
          "output_type": "execute_result",
          "data": {
            "text/plain": [
              "3"
            ]
          },
          "metadata": {},
          "execution_count": 49
        }
      ],
      "source": [
        "var = [1, 2, 3]\n",
        "var.pop()"
      ]
    },
    {
      "cell_type": "code",
      "execution_count": 50,
      "id": "362326e9",
      "metadata": {
        "colab": {
          "base_uri": "https://localhost:8080/"
        },
        "id": "362326e9",
        "outputId": "c21d5536-7bc6-45eb-8cc6-394dc0ca0d3a"
      },
      "outputs": [
        {
          "output_type": "stream",
          "name": "stdout",
          "text": [
            "[1, 2]\n"
          ]
        }
      ],
      "source": [
        "print(var)"
      ]
    },
    {
      "cell_type": "markdown",
      "id": "e62d36fd",
      "metadata": {
        "id": "e62d36fd"
      },
      "source": [
        "`pop()` 메서드는 리스트의 맨 마지막 요소를 반환하고 해당 요소는 삭제한다. 위 예에서 가장 마지막 요소인 3이 출력되고, var를 확인해보면 최종적으로 [1, 2]만 남아있다.\n",
        "\n",
        "#### 리스트 정렬하기\n",
        "\n",
        "리스트 내의 데이터들은 `sort()` 메서드를 통해 정렬할 수 있다."
      ]
    },
    {
      "cell_type": "code",
      "execution_count": 51,
      "id": "b82552bc",
      "metadata": {
        "colab": {
          "base_uri": "https://localhost:8080/"
        },
        "id": "b82552bc",
        "outputId": "39e211b1-ac22-4798-c60c-c01763402bc8"
      },
      "outputs": [
        {
          "output_type": "stream",
          "name": "stdout",
          "text": [
            "[1, 2, 3, 4]\n"
          ]
        }
      ],
      "source": [
        "var = [2, 4, 1, 3]\n",
        "var.sort()\n",
        "print(var)"
      ]
    },
    {
      "cell_type": "markdown",
      "id": "d36932ca",
      "metadata": {
        "id": "d36932ca"
      },
      "source": [
        "1부터 4까지의 순서가 무작위로 존재했지만, `sort()`를 입력하면 오름차순으로 정렬된다.\n",
        "\n",
        "### 튜플\n",
        "\n",
        "튜플(Tuple) 자료형은 리스트와 매우 흡사하며 약간의 차이점만 있다. 먼저 리스트는 대괄호([ ])를 이용해 생성하지만 튜플은 소괄호(( ))를 이용해 생성한다. 또한 튜플은 값을 수정하거나 삭제할 수 없다."
      ]
    },
    {
      "cell_type": "code",
      "execution_count": 52,
      "id": "6a7a541e",
      "metadata": {
        "colab": {
          "base_uri": "https://localhost:8080/"
        },
        "id": "6a7a541e",
        "outputId": "ead1e047-0f67-4109-abb5-29c6c3888187"
      },
      "outputs": [
        {
          "output_type": "execute_result",
          "data": {
            "text/plain": [
              "tuple"
            ]
          },
          "metadata": {},
          "execution_count": 52
        }
      ],
      "source": [
        "var = ()\n",
        "type(var)"
      ]
    },
    {
      "cell_type": "markdown",
      "id": "ee9516ee",
      "metadata": {
        "id": "ee9516ee"
      },
      "source": [
        "리스트와 마찬가지로 소괄호를 입력하면 빈 튜플이 생성된다."
      ]
    },
    {
      "cell_type": "code",
      "execution_count": 53,
      "id": "6f5267b7",
      "metadata": {
        "colab": {
          "base_uri": "https://localhost:8080/"
        },
        "id": "6f5267b7",
        "outputId": "c04aae0b-1e3f-42c8-dd37-6e6bcfaf3ea8"
      },
      "outputs": [
        {
          "output_type": "stream",
          "name": "stdout",
          "text": [
            "(1,)\n"
          ]
        }
      ],
      "source": [
        "var = (1, )\n",
        "print(var)"
      ]
    },
    {
      "cell_type": "markdown",
      "id": "3a9702b4",
      "metadata": {
        "id": "3a9702b4"
      },
      "source": [
        "만일 값이 하나만 있을 경우에는 요소 뒤에 콤마(,)를 반드시 붙여야 한다."
      ]
    },
    {
      "cell_type": "code",
      "execution_count": 54,
      "id": "8357f7bc",
      "metadata": {
        "colab": {
          "base_uri": "https://localhost:8080/"
        },
        "id": "8357f7bc",
        "outputId": "dd0f64f6-6818-4895-a8f6-dc75b4432d69"
      },
      "outputs": [
        {
          "output_type": "stream",
          "name": "stdout",
          "text": [
            "(1, 2, ('a', 'b'))\n"
          ]
        }
      ],
      "source": [
        "var = (1, 2, ('a', 'b'))\n",
        "print(var)"
      ]
    },
    {
      "cell_type": "markdown",
      "id": "2fb84e63",
      "metadata": {
        "id": "2fb84e63"
      },
      "source": [
        "튜플 역시 요소를 중첩하여 사용할 수 있다."
      ]
    },
    {
      "cell_type": "code",
      "execution_count": 55,
      "id": "c9184e33",
      "metadata": {
        "deletable": false,
        "editable": false,
        "run_control": {
          "frozen": true
        },
        "colab": {
          "base_uri": "https://localhost:8080/",
          "height": 203
        },
        "id": "c9184e33",
        "outputId": "0a9a637e-949f-4014-a72d-f7c8eba010b1"
      },
      "outputs": [
        {
          "output_type": "error",
          "ename": "TypeError",
          "evalue": "ignored",
          "traceback": [
            "\u001b[0;31m---------------------------------------------------------------------------\u001b[0m",
            "\u001b[0;31mTypeError\u001b[0m                                 Traceback (most recent call last)",
            "\u001b[0;32m<ipython-input-55-f2072ad8c71d>\u001b[0m in \u001b[0;36m<cell line: 2>\u001b[0;34m()\u001b[0m\n\u001b[1;32m      1\u001b[0m \u001b[0mvar\u001b[0m \u001b[0;34m=\u001b[0m \u001b[0;34m(\u001b[0m\u001b[0;36m1\u001b[0m\u001b[0;34m,\u001b[0m \u001b[0;36m2\u001b[0m\u001b[0;34m)\u001b[0m\u001b[0;34m\u001b[0m\u001b[0;34m\u001b[0m\u001b[0m\n\u001b[0;32m----> 2\u001b[0;31m \u001b[0;32mdel\u001b[0m \u001b[0mvar\u001b[0m\u001b[0;34m[\u001b[0m\u001b[0;36m0\u001b[0m\u001b[0;34m]\u001b[0m\u001b[0;34m\u001b[0m\u001b[0;34m\u001b[0m\u001b[0m\n\u001b[0m",
            "\u001b[0;31mTypeError\u001b[0m: 'tuple' object doesn't support item deletion"
          ]
        }
      ],
      "source": [
        "var = (1, 2)\n",
        "del var[0]"
      ]
    },
    {
      "cell_type": "markdown",
      "id": "9cd1b41e",
      "metadata": {
        "id": "9cd1b41e"
      },
      "source": [
        "```{figure} image/python/tuple_error.png\n",
        "---\n",
        "name: tuple_error\n",
        "---\n",
        "```\n",
        "\n",
        "만일 `del` 명령어를 이용해 요소값을 삭제하려고 할 경우 오류가 발생한다. 이처럼 튜플은 수정 혹은 삭제가 불가능하다."
      ]
    },
    {
      "cell_type": "code",
      "execution_count": 56,
      "id": "b544511c",
      "metadata": {
        "colab": {
          "base_uri": "https://localhost:8080/"
        },
        "id": "b544511c",
        "outputId": "7b303add-b1ab-4b06-ce38-bdc7c65adc3c"
      },
      "outputs": [
        {
          "output_type": "execute_result",
          "data": {
            "text/plain": [
              "1"
            ]
          },
          "metadata": {},
          "execution_count": 56
        }
      ],
      "source": [
        "var = (1, 2, 3, 4, 5)\n",
        "var[0]"
      ]
    },
    {
      "cell_type": "markdown",
      "id": "64fb3387",
      "metadata": {
        "id": "64fb3387"
      },
      "source": [
        "인덱싱이나 슬라이싱의 경우 리스트와 동일하게 사용이 가능하다.\n",
        "\n",
        "### 딕셔너리\n",
        "\n",
        "딕셔너리(Dictionary)는 대응 관계를 나타내는 자료형으로써, 리스트나 튜플처럼 순서가 존재하지 않으며 대신 Key와 Value가 존재한다. 딕셔너리는 다음과 같은 형태를 가지고 있다. <br/>\n",
        "{Key1:Value1, Key2:Value2, Key3:Value3, ...}"
      ]
    },
    {
      "cell_type": "markdown",
      "id": "29cc8b08",
      "metadata": {
        "id": "29cc8b08"
      },
      "source": [
        "딕셔너리는 중괄호({ })를 감싸서 표현한다. 키(Key)-값(Value)의 형태로 데이터가 이루어져 있으며, 각각은 쉼표(,)로 구분된다. 예시를 살펴보도록 하자."
      ]
    },
    {
      "cell_type": "code",
      "execution_count": 59,
      "id": "f6e114c7",
      "metadata": {
        "colab": {
          "base_uri": "https://localhost:8080/"
        },
        "id": "f6e114c7",
        "outputId": "8a8e9452-e239-468b-99d4-7744cebdaf95"
      },
      "outputs": [
        {
          "output_type": "stream",
          "name": "stdout",
          "text": [
            "{'key1': 1, 'key2': 2}\n"
          ]
        }
      ],
      "source": [
        "var = {'key1' : 1, 'key2' : 2}\n",
        "print(var)"
      ]
    },
    {
      "cell_type": "markdown",
      "id": "58e1ab5b",
      "metadata": {
        "id": "58e1ab5b"
      },
      "source": [
        "키 값이 key1인 곳에는 1이라는 값이, 키 값이 key2인 곳에는 2라는 값이 딕셔너리 형태로 입력되었다."
      ]
    },
    {
      "cell_type": "code",
      "execution_count": 60,
      "id": "88103011",
      "metadata": {
        "colab": {
          "base_uri": "https://localhost:8080/"
        },
        "id": "88103011",
        "outputId": "74b9b698-330b-42e4-e330-5ef1086a2084"
      },
      "outputs": [
        {
          "output_type": "stream",
          "name": "stdout",
          "text": [
            "{'key1': [1, 2, 3], 'key2': ('a', 'b', 'c')}\n"
          ]
        }
      ],
      "source": [
        "var = {'key1': [1, 2, 3], 'key2': ('a', 'b', 'c')}\n",
        "print(var)"
      ]
    },
    {
      "cell_type": "markdown",
      "id": "43398c6b",
      "metadata": {
        "id": "43398c6b"
      },
      "source": [
        "딕셔너리의 값에는 리스트나 튜플 형태도 입력이 가능하다.\n",
        "\n",
        "#### Key를 사용해 Value 구하기\n",
        "\n",
        "문자열이나 리스트, 튜플의 경우 인덱싱이나 슬라이싱을 통해 요소값을 구할 수 있었지만, 딕셔너리는 순서가 존재하지 않으므로 이러한 방법을 사용할 수 없다. 딕셔너리는 Key를 사용해 이에 해당되는 Value를 얻을 수 있다."
      ]
    },
    {
      "cell_type": "code",
      "execution_count": 61,
      "id": "5a7b9e1c",
      "metadata": {
        "colab": {
          "base_uri": "https://localhost:8080/"
        },
        "id": "5a7b9e1c",
        "outputId": "78d4829f-4e3b-46da-a642-0df37302659e"
      },
      "outputs": [
        {
          "output_type": "execute_result",
          "data": {
            "text/plain": [
              "1"
            ]
          },
          "metadata": {},
          "execution_count": 61
        }
      ],
      "source": [
        "var = {'key1': 1, 'key2': 2, 'key3': 3}\n",
        "var['key1']"
      ]
    },
    {
      "cell_type": "markdown",
      "id": "20ca6b79",
      "metadata": {
        "id": "20ca6b79"
      },
      "source": [
        "먼저 var라는 변수에 딕셔너리를 입력한 후, `var['key1']`을 입력하면 딕셔너리 중 Key값이 key1에 해당하는 데이터의 Value를 반환한다. 즉 딕셔너리 변수에서 [ ] 안의 값은 순서를 뜻하는 것이 아니라 Key 값을 의미한다.\n",
        "\n",
        "#### 쌍 추가하기 및 삭제하기\n",
        "\n",
        "기존 딕셔너리에 쌍을 추가하는 방법과 삭제하는 방법에 대해 살펴보자."
      ]
    },
    {
      "cell_type": "code",
      "execution_count": 62,
      "id": "a2ccc85e",
      "metadata": {
        "colab": {
          "base_uri": "https://localhost:8080/"
        },
        "id": "a2ccc85e",
        "outputId": "5fd04f76-694d-4bd7-c446-17ec76536ee2"
      },
      "outputs": [
        {
          "output_type": "stream",
          "name": "stdout",
          "text": [
            "{'key1': 1, 'key2': 2, 'key3': 3}\n"
          ]
        }
      ],
      "source": [
        "var = {'key1': 1, 'key2': 2}\n",
        "var['key3'] = 3\n",
        "print(var)"
      ]
    },
    {
      "cell_type": "markdown",
      "id": "2fa4800d",
      "metadata": {
        "id": "2fa4800d"
      },
      "source": [
        "먼저 key1과 key2로 이루어진 딕셔너리를 만들었다. 그 후 `var['key3'] = 3`을 입력하면 Key는 key3, Value는 3인 딕셔너리 쌍이 추가된다."
      ]
    },
    {
      "cell_type": "code",
      "execution_count": 63,
      "id": "546dcd1a",
      "metadata": {
        "colab": {
          "base_uri": "https://localhost:8080/"
        },
        "id": "546dcd1a",
        "outputId": "38727bcb-3595-44e8-d968-857d577d4761"
      },
      "outputs": [
        {
          "output_type": "stream",
          "name": "stdout",
          "text": [
            "{'key2': 2, 'key3': 3}\n"
          ]
        }
      ],
      "source": [
        "del var['key1']\n",
        "print(var)"
      ]
    },
    {
      "cell_type": "markdown",
      "id": "0c6d7fc7",
      "metadata": {
        "id": "0c6d7fc7"
      },
      "source": [
        "리스트와 마찬가지로 딕셔너리에서도 `del` 명령어를 사용하면 해당 Key를 가진 딕셔너리 쌍이 삭제된다.\n",
        "\n",
        "#### Key와 Value 구하기\n",
        "\n",
        "이번에는 딕셔너리의 Key와 Value를 한번에 구하는 법에 대해 살펴보자."
      ]
    },
    {
      "cell_type": "code",
      "execution_count": 64,
      "id": "25b53c49",
      "metadata": {
        "colab": {
          "base_uri": "https://localhost:8080/"
        },
        "id": "25b53c49",
        "outputId": "44162d83-659c-409f-a400-6e8515c58310"
      },
      "outputs": [
        {
          "output_type": "execute_result",
          "data": {
            "text/plain": [
              "dict_keys(['key1', 'key2', 'key3'])"
            ]
          },
          "metadata": {},
          "execution_count": 64
        }
      ],
      "source": [
        "var = {'key1': 1, 'key2': 2, 'key3': 3}\n",
        "var.keys()"
      ]
    },
    {
      "cell_type": "markdown",
      "id": "28f66da2",
      "metadata": {
        "id": "28f66da2"
      },
      "source": [
        "`var.keys()`를 입력하면 var라는 딕셔너리에서 Key만을 모아 dict_keys 객체로 반환한다. 만일 이를 리스트 형태로 만들고자할 때는 다음과 같이 하면 된다."
      ]
    },
    {
      "cell_type": "code",
      "execution_count": 65,
      "id": "b3664740",
      "metadata": {
        "colab": {
          "base_uri": "https://localhost:8080/"
        },
        "id": "b3664740",
        "outputId": "53b710a7-86be-43fa-d572-437b814d3c75"
      },
      "outputs": [
        {
          "output_type": "execute_result",
          "data": {
            "text/plain": [
              "['key1', 'key2', 'key3']"
            ]
          },
          "metadata": {},
          "execution_count": 65
        }
      ],
      "source": [
        "list(var.keys())"
      ]
    },
    {
      "cell_type": "markdown",
      "id": "814f8604",
      "metadata": {
        "id": "814f8604"
      },
      "source": [
        "결과를 `list()`로 감싸주면 Key값이 리스트 형태로 출력된다."
      ]
    },
    {
      "cell_type": "code",
      "execution_count": 66,
      "id": "89ae57b3",
      "metadata": {
        "colab": {
          "base_uri": "https://localhost:8080/"
        },
        "id": "89ae57b3",
        "outputId": "5e75cf88-b9dd-43fb-bbef-e64b7a128e62"
      },
      "outputs": [
        {
          "output_type": "execute_result",
          "data": {
            "text/plain": [
              "dict_values([1, 2, 3])"
            ]
          },
          "metadata": {},
          "execution_count": 66
        }
      ],
      "source": [
        "var.values()"
      ]
    },
    {
      "cell_type": "markdown",
      "id": "e0a75bab",
      "metadata": {
        "id": "e0a75bab"
      },
      "source": [
        "`var.values()`는 var라는 딕셔너리에서 Value만을 모아 dict_keys 객체로 반환한다.\n",
        "\n",
        "### 집합\n",
        "\n",
        "집합(Set)은 집합에 관련된 자료형이며, `set()` 키워드를 사용해 만들 수 있다. 집합 자료형의 특징으로는 중복을 허용하지 않는다는 점과, 순서가 없다는 점이다."
      ]
    },
    {
      "cell_type": "code",
      "execution_count": 67,
      "id": "9687d3de",
      "metadata": {
        "colab": {
          "base_uri": "https://localhost:8080/"
        },
        "id": "9687d3de",
        "outputId": "5c1874b2-00b5-42ab-bc32-1edcb294557b"
      },
      "outputs": [
        {
          "output_type": "stream",
          "name": "stdout",
          "text": [
            "{1, 2, 3}\n"
          ]
        }
      ],
      "source": [
        "set1 = set([1, 2, 3])\n",
        "print(set1)"
      ]
    },
    {
      "cell_type": "markdown",
      "id": "deb00dd6",
      "metadata": {
        "id": "deb00dd6"
      },
      "source": [
        "`set()` 내에 리스트를 입력하면 집합이 만들어진다."
      ]
    },
    {
      "cell_type": "code",
      "execution_count": 68,
      "id": "f0247dd1",
      "metadata": {
        "colab": {
          "base_uri": "https://localhost:8080/"
        },
        "id": "f0247dd1",
        "outputId": "c9e8e88b-6a49-452c-873e-e675752b39f6"
      },
      "outputs": [
        {
          "output_type": "stream",
          "name": "stdout",
          "text": [
            "{'a', 'n', 'b'}\n"
          ]
        }
      ],
      "source": [
        "set2 = set('banana')\n",
        "print(set2)"
      ]
    },
    {
      "cell_type": "markdown",
      "id": "d7146ed1",
      "metadata": {
        "id": "d7146ed1"
      },
      "source": [
        "반면 `set()` 내에 banana라는 단어를 입력했더니 'a', 'b', 'n'만 입력이 되었다. 이는 집합이 중복을 허용하지 않기 때문에 고유한 값만이 남았으며, 순서도 입력한 것과 다르다.\n",
        "\n",
        "#### 합집합, 교집합, 차집합 구하기\n",
        "\n",
        "집합 자료형을 통해 합집합, 교집합, 차집합을 구해보도록 하자.\n",
        "\n",
        "```{figure} image/python/set.png\n",
        "---\n",
        "name: set\n",
        "---\n",
        "집합 연산의 종류\n",
        "```"
      ]
    },
    {
      "cell_type": "code",
      "execution_count": 69,
      "id": "845c90e9",
      "metadata": {
        "id": "845c90e9"
      },
      "outputs": [],
      "source": [
        "s1 = set([1, 2, 3, 4])\n",
        "s2 = set([3, 4, 5, 6])"
      ]
    },
    {
      "cell_type": "markdown",
      "id": "a7b4dd9b",
      "metadata": {
        "id": "a7b4dd9b"
      },
      "source": [
        "먼저 합집합을 구해보도록 하자. 합집합이란 하나에라도 속하는 원소들을 모두 모은 집합이다."
      ]
    },
    {
      "cell_type": "code",
      "execution_count": 70,
      "id": "45fc54fa",
      "metadata": {
        "colab": {
          "base_uri": "https://localhost:8080/"
        },
        "id": "45fc54fa",
        "outputId": "b3382491-060e-42a4-97a4-4a96a46230c9"
      },
      "outputs": [
        {
          "output_type": "execute_result",
          "data": {
            "text/plain": [
              "{1, 2, 3, 4, 5, 6}"
            ]
          },
          "metadata": {},
          "execution_count": 70
        }
      ],
      "source": [
        "s1.union(s2)"
      ]
    },
    {
      "cell_type": "markdown",
      "id": "67148b02",
      "metadata": {
        "id": "67148b02"
      },
      "source": [
        "`union()` 메서드를 사용하면 합집합을 구할 수 있다. 즉 1부터 6까지의 숫자가 집합에 입력되며, 두 집합에 공통으로 존재하는 3과 4는 한번만 입력이 된다.\n",
        "\n",
        "다음으로 교집합을 구해보도록 하자. 교집합이란 두 집합이 공통으로 포함하는 원소로 이루어진 집합이다."
      ]
    },
    {
      "cell_type": "code",
      "execution_count": 71,
      "id": "4c364cab",
      "metadata": {
        "colab": {
          "base_uri": "https://localhost:8080/"
        },
        "id": "4c364cab",
        "outputId": "c7e5ec01-38c9-41f0-b82a-17da48f6f254"
      },
      "outputs": [
        {
          "output_type": "execute_result",
          "data": {
            "text/plain": [
              "{3, 4}"
            ]
          },
          "metadata": {},
          "execution_count": 71
        }
      ],
      "source": [
        "s1.intersection(s2)"
      ]
    },
    {
      "cell_type": "markdown",
      "id": "7eeb3abc",
      "metadata": {
        "id": "7eeb3abc"
      },
      "source": [
        "`intersection()` 메서드를 사용하면 교집합을 구할 수 있다. 즉 두 집합에 공통으로 존재하는 3과 4가 반환된다.\n",
        "\n",
        "마지막으로 차집합을 구해보도록 하자. 차집합이란 집합 A에는 속하지만 집합 B에는 속하지 않는 원소들로 이루어진 집합이다."
      ]
    },
    {
      "cell_type": "code",
      "execution_count": 72,
      "id": "1ea83bf1",
      "metadata": {
        "colab": {
          "base_uri": "https://localhost:8080/"
        },
        "id": "1ea83bf1",
        "outputId": "248e4288-d0f4-4f14-887a-9dddaf4f8344"
      },
      "outputs": [
        {
          "output_type": "execute_result",
          "data": {
            "text/plain": [
              "{1, 2}"
            ]
          },
          "metadata": {},
          "execution_count": 72
        }
      ],
      "source": [
        "s1.difference(s2)"
      ]
    },
    {
      "cell_type": "markdown",
      "id": "4610a5f4",
      "metadata": {
        "id": "4610a5f4"
      },
      "source": [
        "`difference()` 메서드를 사용하면 집합 s1에서 교집합을 제외한 {1, 2}만이 반환된다.\n",
        "\n",
        "### 불리언\n",
        "\n",
        "불리언(Boolean) 자료형이란 참(True) 혹은 거짓(False)을 나타내는 자료형으로, 이 두가지 값만을 가질 수 있다. 참고로 True와 False는 첫 문자는 항상 대문자로 사용해야 한다."
      ]
    },
    {
      "cell_type": "code",
      "execution_count": 73,
      "id": "ff1c73ff",
      "metadata": {
        "colab": {
          "base_uri": "https://localhost:8080/"
        },
        "id": "ff1c73ff",
        "outputId": "0ce6fde0-ffb0-47f6-d3ad-9080845c4802"
      },
      "outputs": [
        {
          "output_type": "execute_result",
          "data": {
            "text/plain": [
              "bool"
            ]
          },
          "metadata": {},
          "execution_count": 73
        }
      ],
      "source": [
        "var = True\n",
        "type(var)"
      ]
    },
    {
      "cell_type": "markdown",
      "id": "92fdb2de",
      "metadata": {
        "id": "92fdb2de"
      },
      "source": [
        "var 변수에 True를 입력한 후 타입을 확인해보면 bool, 즉 불리언 자료형임을 알 수 있다."
      ]
    },
    {
      "cell_type": "code",
      "execution_count": 74,
      "id": "c27b63e1",
      "metadata": {
        "colab": {
          "base_uri": "https://localhost:8080/"
        },
        "id": "c27b63e1",
        "outputId": "120b4264-e2d1-4da5-c796-10e31109893c"
      },
      "outputs": [
        {
          "output_type": "execute_result",
          "data": {
            "text/plain": [
              "True"
            ]
          },
          "metadata": {},
          "execution_count": 74
        }
      ],
      "source": [
        "1 == 1"
      ]
    },
    {
      "cell_type": "markdown",
      "id": "fbdcf1fb",
      "metadata": {
        "id": "fbdcf1fb"
      },
      "source": [
        "파이썬에서 `==` 는 양측 값이 같은지를 확인하는 비교연산자이다. 좌측의 1과 우측의 1은 같으므로 True 즉 참이 반환된다."
      ]
    },
    {
      "cell_type": "code",
      "execution_count": 75,
      "id": "89fe8622",
      "metadata": {
        "colab": {
          "base_uri": "https://localhost:8080/"
        },
        "id": "89fe8622",
        "outputId": "03704a99-5d86-435a-c0c2-efd3dd9913e1"
      },
      "outputs": [
        {
          "output_type": "execute_result",
          "data": {
            "text/plain": [
              "True"
            ]
          },
          "metadata": {},
          "execution_count": 75
        }
      ],
      "source": [
        "1 != 2"
      ]
    },
    {
      "cell_type": "markdown",
      "id": "b73afc00",
      "metadata": {
        "id": "b73afc00"
      },
      "source": [
        "`!=` 는 양측 값이 다른지를 확인하는 비교연산자이다. 좌측의 1과 우측의 2는 다르므로 역시나 True가 반환된다.\n",
        "\n",
        "#### 자료형의 참과 거짓\n",
        "\n",
        "자료형 자체에도 참과 거짓이 존재한다."
      ]
    },
    {
      "cell_type": "code",
      "execution_count": 76,
      "id": "ab69a725",
      "metadata": {
        "colab": {
          "base_uri": "https://localhost:8080/"
        },
        "id": "ab69a725",
        "outputId": "3e0e32ca-3f37-4b91-86b5-b1e237b180a1"
      },
      "outputs": [
        {
          "output_type": "execute_result",
          "data": {
            "text/plain": [
              "False"
            ]
          },
          "metadata": {},
          "execution_count": 76
        }
      ],
      "source": [
        "bool(0)"
      ]
    },
    {
      "cell_type": "markdown",
      "id": "553343b0",
      "metadata": {
        "id": "553343b0"
      },
      "source": [
        "`bool()` 함수는 참(True)과 거짓(False)을 반환하는 함수다. 숫자 0은 False에 해당한다."
      ]
    },
    {
      "cell_type": "code",
      "execution_count": 77,
      "id": "5249b780",
      "metadata": {
        "colab": {
          "base_uri": "https://localhost:8080/"
        },
        "id": "5249b780",
        "outputId": "6d2bfc54-6ba4-4a13-eead-613739bcd317"
      },
      "outputs": [
        {
          "output_type": "execute_result",
          "data": {
            "text/plain": [
              "True"
            ]
          },
          "metadata": {},
          "execution_count": 77
        }
      ],
      "source": [
        "bool(1)"
      ]
    },
    {
      "cell_type": "code",
      "execution_count": 78,
      "id": "8a85c25d",
      "metadata": {
        "colab": {
          "base_uri": "https://localhost:8080/"
        },
        "id": "8a85c25d",
        "outputId": "69eadf9a-ae45-436d-c9ce-f808553b2d03"
      },
      "outputs": [
        {
          "output_type": "execute_result",
          "data": {
            "text/plain": [
              "True"
            ]
          },
          "metadata": {},
          "execution_count": 78
        }
      ],
      "source": [
        "bool(2)"
      ]
    },
    {
      "cell_type": "markdown",
      "id": "fdf1b580",
      "metadata": {
        "id": "fdf1b580"
      },
      "source": [
        "반면 0이 아닌 숫자는 True에 해당한다."
      ]
    },
    {
      "cell_type": "code",
      "execution_count": 79,
      "id": "e110db07",
      "metadata": {
        "colab": {
          "base_uri": "https://localhost:8080/"
        },
        "id": "e110db07",
        "outputId": "6345ca9c-3a5c-4575-a766-9d3d871867e7"
      },
      "outputs": [
        {
          "output_type": "execute_result",
          "data": {
            "text/plain": [
              "False"
            ]
          },
          "metadata": {},
          "execution_count": 79
        }
      ],
      "source": [
        "bool(None)"
      ]
    },
    {
      "cell_type": "markdown",
      "id": "4dfaacff",
      "metadata": {
        "id": "4dfaacff"
      },
      "source": [
        "None은 값의 부재를 나타내는데 사용되며, False에 해당한다."
      ]
    },
    {
      "cell_type": "code",
      "execution_count": 80,
      "id": "148d9439",
      "metadata": {
        "colab": {
          "base_uri": "https://localhost:8080/"
        },
        "id": "148d9439",
        "outputId": "8828f901-5824-43bc-c364-c37c7d0e4456"
      },
      "outputs": [
        {
          "output_type": "execute_result",
          "data": {
            "text/plain": [
              "False"
            ]
          },
          "metadata": {},
          "execution_count": 80
        }
      ],
      "source": [
        "bool(\"\")"
      ]
    },
    {
      "cell_type": "code",
      "execution_count": 81,
      "id": "14a3caaf",
      "metadata": {
        "colab": {
          "base_uri": "https://localhost:8080/"
        },
        "id": "14a3caaf",
        "outputId": "7d6fb3c3-f255-4cb9-8208-c57a70579317"
      },
      "outputs": [
        {
          "output_type": "execute_result",
          "data": {
            "text/plain": [
              "False"
            ]
          },
          "metadata": {},
          "execution_count": 81
        }
      ],
      "source": [
        "bool([])"
      ]
    },
    {
      "cell_type": "code",
      "execution_count": 82,
      "id": "452f6e64",
      "metadata": {
        "colab": {
          "base_uri": "https://localhost:8080/"
        },
        "id": "452f6e64",
        "outputId": "b7fb3547-f5ce-4f60-ccf9-0b6617769ddc"
      },
      "outputs": [
        {
          "output_type": "execute_result",
          "data": {
            "text/plain": [
              "False"
            ]
          },
          "metadata": {},
          "execution_count": 82
        }
      ],
      "source": [
        "bool({})"
      ]
    },
    {
      "cell_type": "code",
      "execution_count": 83,
      "id": "3d3c714f",
      "metadata": {
        "colab": {
          "base_uri": "https://localhost:8080/"
        },
        "id": "3d3c714f",
        "outputId": "e1a9b966-177c-4344-c7d2-2838e0f6915f"
      },
      "outputs": [
        {
          "output_type": "execute_result",
          "data": {
            "text/plain": [
              "False"
            ]
          },
          "metadata": {},
          "execution_count": 83
        }
      ],
      "source": [
        "bool(())"
      ]
    },
    {
      "cell_type": "markdown",
      "id": "fa632371",
      "metadata": {
        "id": "fa632371"
      },
      "source": [
        "문자열, 리스트, 딕셔너리, 튜플 등의 값이 비어 있을 경우는 False에 해당한다."
      ]
    },
    {
      "cell_type": "code",
      "execution_count": 84,
      "id": "fd6b185f",
      "metadata": {
        "colab": {
          "base_uri": "https://localhost:8080/"
        },
        "id": "fd6b185f",
        "outputId": "d5ccb9d0-c196-4b7e-a27f-ca06300b9e9f"
      },
      "outputs": [
        {
          "output_type": "execute_result",
          "data": {
            "text/plain": [
              "True"
            ]
          },
          "metadata": {},
          "execution_count": 84
        }
      ],
      "source": [
        "bool('Python')"
      ]
    },
    {
      "cell_type": "code",
      "execution_count": 85,
      "id": "2af1dacc",
      "metadata": {
        "colab": {
          "base_uri": "https://localhost:8080/"
        },
        "id": "2af1dacc",
        "outputId": "de242c44-d484-449d-c79c-b40706bd7731"
      },
      "outputs": [
        {
          "output_type": "execute_result",
          "data": {
            "text/plain": [
              "True"
            ]
          },
          "metadata": {},
          "execution_count": 85
        }
      ],
      "source": [
        "bool([1, 2, 3])"
      ]
    },
    {
      "cell_type": "code",
      "execution_count": 86,
      "id": "d00884bb",
      "metadata": {
        "colab": {
          "base_uri": "https://localhost:8080/"
        },
        "id": "d00884bb",
        "outputId": "70f0f2fa-5963-4037-ed71-c73625dca4ed"
      },
      "outputs": [
        {
          "output_type": "execute_result",
          "data": {
            "text/plain": [
              "True"
            ]
          },
          "metadata": {},
          "execution_count": 86
        }
      ],
      "source": [
        "bool({'Key':'Value'})"
      ]
    },
    {
      "cell_type": "code",
      "execution_count": 87,
      "id": "0e1919b8",
      "metadata": {
        "colab": {
          "base_uri": "https://localhost:8080/"
        },
        "id": "0e1919b8",
        "outputId": "fad0efeb-f342-4ca9-b3dd-89099d7ed36c"
      },
      "outputs": [
        {
          "output_type": "execute_result",
          "data": {
            "text/plain": [
              "True"
            ]
          },
          "metadata": {},
          "execution_count": 87
        }
      ],
      "source": [
        "bool((1, 2))"
      ]
    },
    {
      "cell_type": "markdown",
      "id": "ffae752d",
      "metadata": {
        "id": "ffae752d"
      },
      "source": [
        "## 제어문\n",
        "\n",
        "파이썬 프로그래밍은 위에서부터 아래 방향으로 작성된 내용을 순서대로 실행한다. 반면 이러한 흐름을 제어하여 실행 순서를 바꾸거나 여러 번 반복하도록 하는 것이 제어문이다. 파이썬의 제어문에는 크게 if문, while문, for문이 있다.\n",
        "\n",
        "### if 문\n",
        "\n",
        "if문, 혹은 조건문이란 입력된 조건을 판단하여 해당 조건에 맞는 상황을 실행한다. if문의 기본적인 구조는 다음과 같다."
      ]
    },
    {
      "cell_type": "code",
      "source": [
        "if 조건:\n",
        "  실행"
      ],
      "metadata": {
        "id": "NkCVvJoMmgRf"
      },
      "id": "NkCVvJoMmgRf",
      "execution_count": null,
      "outputs": []
    },
    {
      "cell_type": "markdown",
      "id": "a410f153",
      "metadata": {
        "id": "a410f153"
      },
      "source": [
        "1. `if`를 통해 if문을 선언하고, 바로 뒤에 조건을 입력한 후 콜론(:)을 붙인다.\n",
        "2. 줄바꿈을 해준 후 만일 조건이 True일 경우 실행할 코드를 입력한다. 이 때 조건문 바로 아래부터는 if문에 속하는 문장이므로 들여쓰기를 해주어야 하며, 공백을 4번 입력하거나 탭을 누른다. 만일 들여쓰기가 제대로 되지 않을 경우 오류가 발생한다.\n",
        "\n",
        "예를 살펴보도록 하자."
      ]
    },
    {
      "cell_type": "code",
      "execution_count": 102,
      "id": "9d05b4df",
      "metadata": {
        "colab": {
          "base_uri": "https://localhost:8080/"
        },
        "id": "9d05b4df",
        "outputId": "19fc9edb-fb83-477f-da35-3911e0325166"
      },
      "outputs": [
        {
          "output_type": "stream",
          "name": "stdout",
          "text": [
            "값이 0보다 큽니다.\n"
          ]
        }
      ],
      "source": [
        "x = 2\n",
        "\n",
        "if x > 0:\n",
        "    print('값이 0보다 큽니다.')"
      ]
    },
    {
      "cell_type": "markdown",
      "id": "a50ca893",
      "metadata": {
        "id": "a50ca893"
      },
      "source": [
        "1. 먼저 x라는 변수에 2라는 숫자를 입력한다.\n",
        "2. `if`를 통해 조건을 선언하며 조건에는 `x > 0`을 설정한 후 콜론을 입력한다.\n",
        "3. 만일 위 조건이 True일 경우 '값이 0보다 큽니다.'를 출력한다.\n",
        "\n",
        "실제 결과를 살펴보다 2는 0보다 크므로 해당 문장이 출력된다."
      ]
    },
    {
      "cell_type": "code",
      "execution_count": 103,
      "id": "fb32c010",
      "metadata": {
        "id": "fb32c010"
      },
      "outputs": [],
      "source": [
        "x = -1\n",
        "\n",
        "if x > 0:\n",
        "    print('값이 0보다 큽니다.')"
      ]
    },
    {
      "cell_type": "markdown",
      "id": "7e3d3227",
      "metadata": {
        "id": "7e3d3227"
      },
      "source": [
        "반면 위의 경우 코드를 실행해도 아무런 결과가 나타나지 않는다. 이는 x에 입력된 -1이 0보다 작으므로 조건이 False이기 때문이다. 이처럼 조건문이 False일때 실행할 상황은 `else`를 이용한다."
      ]
    },
    {
      "cell_type": "code",
      "execution_count": 105,
      "id": "716f4624",
      "metadata": {
        "deletable": false,
        "editable": false,
        "run_control": {
          "frozen": true
        },
        "colab": {
          "base_uri": "https://localhost:8080/",
          "height": 147
        },
        "id": "716f4624",
        "outputId": "ae9f07c4-09c4-4f28-81de-c5b0c0e4eef9"
      },
      "outputs": [
        {
          "output_type": "error",
          "ename": "SyntaxError",
          "evalue": "ignored",
          "traceback": [
            "\u001b[0;36m  File \u001b[0;32m\"<ipython-input-105-12d7c7953194>\"\u001b[0;36m, line \u001b[0;32m2\u001b[0m\n\u001b[0;31m    실행 1\u001b[0m\n\u001b[0m       ^\u001b[0m\n\u001b[0;31mSyntaxError\u001b[0m\u001b[0;31m:\u001b[0m invalid syntax\n"
          ]
        }
      ],
      "source": [
        "if 조건:\n",
        "    실행 1\n",
        "else:\n",
        "    실행 2"
      ]
    },
    {
      "cell_type": "markdown",
      "id": "78061541",
      "metadata": {
        "id": "78061541"
      },
      "source": [
        "만일 조건이 True일 경우에는 [실행 1]에 해당하는 코드가 실행되지만, 그렇지 않을 경우 [실행 2]에 해당하는 코드가 실행된다. `if`와 마찬가지로 `else`문 아래의 문장도 들여쓰기를 해주어야 한다."
      ]
    },
    {
      "cell_type": "code",
      "execution_count": 106,
      "id": "58af1931",
      "metadata": {
        "colab": {
          "base_uri": "https://localhost:8080/"
        },
        "id": "58af1931",
        "outputId": "80cd9f59-fdbc-467f-968f-e80223daa4c6"
      },
      "outputs": [
        {
          "output_type": "stream",
          "name": "stdout",
          "text": [
            "값이 음수입니다.\n"
          ]
        }
      ],
      "source": [
        "x = -1\n",
        "\n",
        "if x > 0:\n",
        "    print('값이 0보다 큽니다.')\n",
        "else:\n",
        "    print('값이 음수입니다.')"
      ]
    },
    {
      "cell_type": "markdown",
      "id": "4823fcf4",
      "metadata": {
        "id": "4823fcf4"
      },
      "source": [
        "-1이 0보다 작으므로 조건은 False다. 따라서 else에 속하는 '값이 음수입니다.'가 출력된다. 만일 조건이 여러개인 다중 조건을 판단하려면 `if`와 `else` 사이에 `elif`를 추가하면 된다."
      ]
    },
    {
      "cell_type": "code",
      "execution_count": 107,
      "id": "fe563d32",
      "metadata": {
        "deletable": false,
        "editable": false,
        "run_control": {
          "frozen": true
        },
        "colab": {
          "base_uri": "https://localhost:8080/",
          "height": 147
        },
        "id": "fe563d32",
        "outputId": "7bc043eb-d7de-4075-84a7-d15a25f789f0"
      },
      "outputs": [
        {
          "output_type": "error",
          "ename": "SyntaxError",
          "evalue": "ignored",
          "traceback": [
            "\u001b[0;36m  File \u001b[0;32m\"<ipython-input-107-c8f576b9948f>\"\u001b[0;36m, line \u001b[0;32m1\u001b[0m\n\u001b[0;31m    if 조건 1:\u001b[0m\n\u001b[0m          ^\u001b[0m\n\u001b[0;31mSyntaxError\u001b[0m\u001b[0;31m:\u001b[0m invalid syntax\n"
          ]
        }
      ],
      "source": [
        "if 조건 1:\n",
        "    실행 1\n",
        "elif 조건 2:\n",
        "    실행 2\n",
        "elif 조건 3:\n",
        "    실행 3\n",
        "...\n",
        "else:\n",
        "    실행 n"
      ]
    },
    {
      "cell_type": "markdown",
      "id": "a70d143c",
      "metadata": {
        "id": "a70d143c"
      },
      "source": [
        "`if`의 [조건 1]이 False일 경우 바로 아래의 `elif`를 통해 [조건 2]를 판단한다. 만일 [조건 2]가 True일 경우에는 [실행 2]에 해당하는 코드가 실행되지만, False일 경우에는 다시 [조건 3]을 판단한다. 만일 모든 `elif`의 조건이 False일 경우 최종적으로 [실행 n]에 해당하는 코드가 실행되며, `elif`는 개수에 제한 없이 사용할 수 있다."
      ]
    },
    {
      "cell_type": "code",
      "execution_count": 108,
      "id": "ae0ff727",
      "metadata": {
        "scrolled": true,
        "colab": {
          "base_uri": "https://localhost:8080/"
        },
        "id": "ae0ff727",
        "outputId": "2a4a75c2-2f19-4fe6-8a07-10dc36a903cc"
      },
      "outputs": [
        {
          "output_type": "stream",
          "name": "stdout",
          "text": [
            "값이 0 이상 10 미만입니다.\n"
          ]
        }
      ],
      "source": [
        "x = 3\n",
        "\n",
        "if x >= 10:\n",
        "    print('값이 10보다 큽니다.')\n",
        "elif x >= 0:\n",
        "    print('값이 0 이상 10 미만입니다.')\n",
        "else:\n",
        "    print('값이 음수입니다.')"
      ]
    },
    {
      "cell_type": "markdown",
      "id": "d3d5ef7a",
      "metadata": {
        "id": "d3d5ef7a"
      },
      "source": [
        "먼저 `if` 조건에서 3은 10 보다 크지 않으므로 조건이 False이며, 이에 해당하는 코드가 실행되지 않는다. 그 후 `elif` 조건에서 3은 0보다 크므로 이에 해당하는 코드인 '값이 0 이상 10 미만입니다.'가 출력된다.\n",
        "\n",
        "만일 조건문이 `if`와 `else`로만 구성될 경우 다음과 같이 간단하게 작성할 수도 있다."
      ]
    },
    {
      "cell_type": "code",
      "execution_count": 109,
      "id": "b6d8ddc2",
      "metadata": {
        "deletable": false,
        "editable": false,
        "run_control": {
          "frozen": true
        },
        "colab": {
          "base_uri": "https://localhost:8080/",
          "height": 147
        },
        "id": "b6d8ddc2",
        "outputId": "a15711fe-9798-4c52-889c-ce444ff024fa"
      },
      "outputs": [
        {
          "output_type": "error",
          "ename": "SyntaxError",
          "evalue": "ignored",
          "traceback": [
            "\u001b[0;36m  File \u001b[0;32m\"<ipython-input-109-47980aa4838d>\"\u001b[0;36m, line \u001b[0;32m1\u001b[0m\n\u001b[0;31m    [조건문이 True인 경우] if 조건문 else [조건문이 False 경우]\u001b[0m\n\u001b[0m     ^\u001b[0m\n\u001b[0;31mSyntaxError\u001b[0m\u001b[0;31m:\u001b[0m invalid syntax. Perhaps you forgot a comma?\n"
          ]
        }
      ],
      "source": [
        "[조건문이 True인 경우] if 조건문 else [조건문이 False 경우]"
      ]
    },
    {
      "cell_type": "markdown",
      "id": "ff88c329",
      "metadata": {
        "id": "ff88c329"
      },
      "source": [
        "예제를 살펴보도록 하자."
      ]
    },
    {
      "cell_type": "code",
      "execution_count": 110,
      "id": "1afa5b92",
      "metadata": {
        "colab": {
          "base_uri": "https://localhost:8080/",
          "height": 35
        },
        "id": "1afa5b92",
        "outputId": "e09f0c49-12be-40c5-8b26-974bf79cec0c"
      },
      "outputs": [
        {
          "output_type": "execute_result",
          "data": {
            "text/plain": [
              "'0 이상'"
            ],
            "application/vnd.google.colaboratory.intrinsic+json": {
              "type": "string"
            }
          },
          "metadata": {},
          "execution_count": 110
        }
      ],
      "source": [
        "x = 7\n",
        "\n",
        "'0 이상' if x >= 0 else '음수'"
      ]
    },
    {
      "cell_type": "markdown",
      "id": "6a2fcfff",
      "metadata": {
        "id": "6a2fcfff"
      },
      "source": [
        "x가 0 이상일 경우에는 '0 이상'을 출력하며, 그렇지 않을 경우엔 '음수'를 출력한다. 이처럼 조건부 표현식은 한 줄로 작성할 수 있어 훨씬 가독성이 좋다.\n",
        "\n",
        "### while문\n",
        "\n",
        "while문, 혹은 반복문은 특정 조건을 만족하는 동안 반복해서 코드를 실행한다. while문의 기본적인 구조는 다음과 같다."
      ]
    },
    {
      "cell_type": "code",
      "execution_count": 111,
      "id": "90bccbbc",
      "metadata": {
        "deletable": false,
        "editable": false,
        "run_control": {
          "frozen": true
        },
        "colab": {
          "base_uri": "https://localhost:8080/",
          "height": 203
        },
        "id": "90bccbbc",
        "outputId": "810ec590-4a30-4963-f4a2-7bf3f5c4e804"
      },
      "outputs": [
        {
          "output_type": "error",
          "ename": "NameError",
          "evalue": "ignored",
          "traceback": [
            "\u001b[0;31m---------------------------------------------------------------------------\u001b[0m",
            "\u001b[0;31mNameError\u001b[0m                                 Traceback (most recent call last)",
            "\u001b[0;32m<ipython-input-111-963383eef599>\u001b[0m in \u001b[0;36m<cell line: 1>\u001b[0;34m()\u001b[0m\n\u001b[0;32m----> 1\u001b[0;31m \u001b[0;32mwhile\u001b[0m \u001b[0m조건\u001b[0m\u001b[0;34m:\u001b[0m\u001b[0;34m\u001b[0m\u001b[0;34m\u001b[0m\u001b[0m\n\u001b[0m\u001b[1;32m      2\u001b[0m     \u001b[0m실행\u001b[0m\u001b[0;34m\u001b[0m\u001b[0;34m\u001b[0m\u001b[0m\n",
            "\u001b[0;31mNameError\u001b[0m: name '조건' is not defined"
          ]
        }
      ],
      "source": [
        "while 조건:\n",
        "    실행"
      ]
    },
    {
      "cell_type": "markdown",
      "id": "2e81588d",
      "metadata": {
        "id": "2e81588d"
      },
      "source": [
        "[조건]에 해당하는 부분이 True인 동안에는 [실행]에 해당하는 코드가 반복해서 수행된다. while문도 if문과 마찬가지로 [실행]에 해당하는 부분은 들여쓰기를 해주어야 한다. 예제를 살펴보도록 하자."
      ]
    },
    {
      "cell_type": "code",
      "execution_count": 112,
      "id": "510b6ea9",
      "metadata": {
        "colab": {
          "base_uri": "https://localhost:8080/"
        },
        "id": "510b6ea9",
        "outputId": "9ca80f7c-f00e-41f1-fd01-c7631a651faf"
      },
      "outputs": [
        {
          "output_type": "stream",
          "name": "stdout",
          "text": [
            "1\n",
            "2\n",
            "3\n",
            "4\n"
          ]
        }
      ],
      "source": [
        "num = 1\n",
        "\n",
        "while num < 5:\n",
        "    print(num)\n",
        "    num = num + 1"
      ]
    },
    {
      "cell_type": "markdown",
      "id": "e2b990cc",
      "metadata": {
        "id": "e2b990cc"
      },
      "source": [
        "1. 먼저 num에 1을 입력한다.\n",
        "2. 만일 num이 5 미만일 경우 아래의 코드를 계속해서 수행한다.\n",
        "3. num을 출력한다.\n",
        "4. num에 1을 더한다.\n",
        "\n",
        "1부터 4까지 숫자가 출력되다가, num이 5가 된 순간에는 while문의 조건이 False 이므로 코드 실행이 종료된다. 만약 `num = num + 1` 부분이 없다면 num은 계속 1인 상태이므로 `print(num)`이 무한대로 실행된다.\n",
        "\n",
        "`while`문 내부에 `if`문을 추가할 수도 있다."
      ]
    },
    {
      "cell_type": "code",
      "execution_count": 113,
      "id": "587c3a5e",
      "metadata": {
        "colab": {
          "base_uri": "https://localhost:8080/"
        },
        "id": "587c3a5e",
        "outputId": "03a221a2-ee8c-41b8-ba27-067ab71bed6f"
      },
      "outputs": [
        {
          "output_type": "stream",
          "name": "stdout",
          "text": [
            "2은 짝수입니다.\n",
            "4은 짝수입니다.\n",
            "6은 짝수입니다.\n",
            "8은 짝수입니다.\n"
          ]
        }
      ],
      "source": [
        "num = 1\n",
        "\n",
        "while num < 10 :\n",
        "    if num % 2 == 0 :\n",
        "        print(f'{num}은 짝수입니다.')\n",
        "    num = num + 1"
      ]
    },
    {
      "cell_type": "markdown",
      "id": "53b8b18a",
      "metadata": {
        "id": "53b8b18a"
      },
      "source": [
        "1. num에 1을 입력한다.\n",
        "2. `while`을 통해 num이 10 미만일 경우 아래의 코드를 계속해서 수행한다.\n",
        "3. `if`를 추가하여 num % 2 == 0일 경우, 즉 나머지가 0일 경우 글자를 출력한다.\n",
        "4. num에 1을 더한다.\n",
        "\n",
        "즉 1부터 9까지 숫자 중, 짝수인 부분만 글자를 출력한다. 만일 코드가 계속해서 실행되다가 특정 조건을 만족할 경우 멈추게 하고 싶을 경우 if문에 `break`를 사용하면 된다."
      ]
    },
    {
      "cell_type": "code",
      "execution_count": 114,
      "id": "25efd7ed",
      "metadata": {
        "colab": {
          "base_uri": "https://localhost:8080/"
        },
        "id": "25efd7ed",
        "outputId": "b4778923-3e0b-4e89-f485-dcd3298c2b1f"
      },
      "outputs": [
        {
          "output_type": "stream",
          "name": "stdout",
          "text": [
            "잔액은 900원 입니다.\n",
            "잔액은 800원 입니다.\n",
            "잔액은 700원 입니다.\n",
            "잔액은 600원 입니다.\n",
            "잔액은 500원 입니다.\n",
            "잔액은 400원 입니다.\n",
            "잔액은 300원 입니다.\n",
            "잔액은 200원 입니다.\n",
            "잔액은 100원 입니다.\n",
            "잔액은 0원 입니다.\n"
          ]
        }
      ],
      "source": [
        "money = 1000\n",
        "\n",
        "while True:\n",
        "    money = money - 100\n",
        "    print(f'잔액은 {money}원 입니다.')\n",
        "\n",
        "    if money <= 0 :\n",
        "        break"
      ]
    },
    {
      "cell_type": "markdown",
      "id": "5cbde86d",
      "metadata": {
        "id": "5cbde86d"
      },
      "source": [
        "1. money에 1000을 입력한다.\n",
        "2. `while True`를 통해 코드가 무한히 반복된다.\n",
        "3. money에서 100을 빼준 후, 잔액을 출력한다.\n",
        "4. if문을 통해 잔액이 0 미만일 경우 `break`를 통해 while문을 멈춘다.\n",
        "\n",
        "결과를 살펴보면 잔액이 100원씩 줄어들다가 0원이 된 순간, if문의 조건이 True이므로 break를 통해 while문이 멈추게 된다.\n",
        "\n",
        "### for문\n",
        "\n",
        "for문은 while문과 동일한 반복문이지만, 무한히 반복되는 것이 아닌 특정 횟수만큼만 반복되는 특징이 있다. for문의 기본적인 구조는 다음과 같다."
      ]
    },
    {
      "cell_type": "code",
      "execution_count": 115,
      "id": "fd680d2a",
      "metadata": {
        "deletable": false,
        "editable": false,
        "run_control": {
          "frozen": true
        },
        "colab": {
          "base_uri": "https://localhost:8080/",
          "height": 147
        },
        "id": "fd680d2a",
        "outputId": "6c8f0e1f-3fd9-428e-8500-c443eccd21fc"
      },
      "outputs": [
        {
          "output_type": "error",
          "ename": "SyntaxError",
          "evalue": "ignored",
          "traceback": [
            "\u001b[0;36m  File \u001b[0;32m\"<ipython-input-115-eaef6ed2e211>\"\u001b[0;36m, line \u001b[0;32m1\u001b[0m\n\u001b[0;31m    for 변수 in 리스트(또는 튜플, 문자열):\u001b[0m\n\u001b[0m                  ^\u001b[0m\n\u001b[0;31mSyntaxError\u001b[0m\u001b[0;31m:\u001b[0m invalid syntax. Perhaps you forgot a comma?\n"
          ]
        }
      ],
      "source": [
        "for 변수 in 리스트(또는 튜플, 문자열):\n",
        "    실행"
      ]
    },
    {
      "cell_type": "markdown",
      "id": "3fb9b39f",
      "metadata": {
        "id": "3fb9b39f"
      },
      "source": [
        "리스트 또는 튜플, 문자열의 첫 번째 요소부터 마지막 요소까지 차례로 변수에 대입된 후 [실행]에 해당하는 코드가 실행되며, 역시나 들여쓰기를 해야한다. 예제를 살펴보도록 하자."
      ]
    },
    {
      "cell_type": "code",
      "execution_count": 116,
      "id": "bc317aa0",
      "metadata": {
        "colab": {
          "base_uri": "https://localhost:8080/"
        },
        "id": "bc317aa0",
        "outputId": "1e6d5259-99a9-4b5a-f03c-16f82d5614d3"
      },
      "outputs": [
        {
          "output_type": "stream",
          "name": "stdout",
          "text": [
            "1\n",
            "2\n",
            "3\n"
          ]
        }
      ],
      "source": [
        "var = [1, 2, 3]\n",
        "\n",
        "for i in var:\n",
        "    print(i)"
      ]
    },
    {
      "cell_type": "markdown",
      "id": "27d53986",
      "metadata": {
        "id": "27d53986"
      },
      "source": [
        "var에 해당하는 [1, 2, 3]의 리스트 중 첫 번째 요소인 1이 먼저 변수 i에 대입된 후 `print(i)`가 실행된다. 그 후 두 번째 요소인 2가 다시 변수 i에 대입되어 `print(i)`가 실행되고, 리스트의 마지막 요소까지 반복된다.\n",
        "\n",
        "for문 역시 if문과 함께 사용할 수 있다."
      ]
    },
    {
      "cell_type": "code",
      "execution_count": 117,
      "id": "71f10bba",
      "metadata": {
        "colab": {
          "base_uri": "https://localhost:8080/"
        },
        "id": "71f10bba",
        "outputId": "a2c0c715-f4cc-42fd-f231-226e06b9b757"
      },
      "outputs": [
        {
          "output_type": "stream",
          "name": "stdout",
          "text": [
            "10는 짝수입니다.\n",
            "15는 홀수입니다.\n",
            "17는 홀수입니다.\n",
            "20는 짝수입니다.\n"
          ]
        }
      ],
      "source": [
        "var = [10, 15, 17, 20]\n",
        "\n",
        "for i in var:\n",
        "    if i % 2 == 0:\n",
        "        print(f'{i}는 짝수입니다.')\n",
        "    else:\n",
        "        print(f'{i}는 홀수입니다.')"
      ]
    },
    {
      "cell_type": "markdown",
      "id": "4b6ecc79",
      "metadata": {
        "id": "4b6ecc79"
      },
      "source": [
        "1. var에 [10, 15, 17, 20]를 입력한다.\n",
        "2. for문을 통해 var의 요소를 하나씩 i에 대입하여 아래의 코드들을 실행한다.\n",
        "3. if문을 통해 만일 나머지가 0일 경우 '짝수입니다.'라는 글자를, 그렇지 않을 경우 else를 통해 '홀수입니다.'라는 글자를 출력한다.\n",
        "\n",
        "for문은 `range()` 함수와 함께 쓰이는 경우가 많다. `range()` 함수는 숫자(정수) 리스트를 자동으로 만들어준다."
      ]
    },
    {
      "cell_type": "code",
      "execution_count": 118,
      "id": "3e3980f9",
      "metadata": {
        "colab": {
          "base_uri": "https://localhost:8080/"
        },
        "id": "3e3980f9",
        "outputId": "8580ae9f-82be-4f45-e560-e5a011cd851f"
      },
      "outputs": [
        {
          "output_type": "execute_result",
          "data": {
            "text/plain": [
              "range(0, 10)"
            ]
          },
          "metadata": {},
          "execution_count": 118
        }
      ],
      "source": [
        "range(10)"
      ]
    },
    {
      "cell_type": "markdown",
      "id": "0838b1c2",
      "metadata": {
        "id": "0838b1c2"
      },
      "source": [
        "`range()` 함수 내에 10을 입력할 경우 0부터 10 미만의 숫자에 해당하는 range 객체를 만들어 준다."
      ]
    },
    {
      "cell_type": "code",
      "execution_count": 119,
      "id": "e1e43ee1",
      "metadata": {
        "colab": {
          "base_uri": "https://localhost:8080/"
        },
        "id": "e1e43ee1",
        "outputId": "a957fd8f-3e1b-4c07-cf67-43738a2d59cd"
      },
      "outputs": [
        {
          "output_type": "execute_result",
          "data": {
            "text/plain": [
              "range(5, 10)"
            ]
          },
          "metadata": {},
          "execution_count": 119
        }
      ],
      "source": [
        "range(5, 10)"
      ]
    },
    {
      "cell_type": "markdown",
      "id": "23cde1e9",
      "metadata": {
        "id": "23cde1e9"
      },
      "source": [
        "시작과 끝 숫자를 지정할 수도 있다. `range(5, 10)`을 입력하면 5부터 10 미만의 숫자에 해당하는 range 객체를 만들어 준다. `range()` 함수의 예시를 살펴보도록 하자."
      ]
    },
    {
      "cell_type": "code",
      "execution_count": 120,
      "id": "d0715e21",
      "metadata": {
        "colab": {
          "base_uri": "https://localhost:8080/"
        },
        "id": "d0715e21",
        "outputId": "3ed62f3b-c2dc-4564-cd84-e81470dbd801"
      },
      "outputs": [
        {
          "output_type": "stream",
          "name": "stdout",
          "text": [
            "0\n",
            "1\n",
            "2\n",
            "3\n",
            "4\n"
          ]
        }
      ],
      "source": [
        "for i in range(5):\n",
        "    print(i)"
      ]
    },
    {
      "cell_type": "markdown",
      "id": "22d504e0",
      "metadata": {
        "id": "22d504e0"
      },
      "source": [
        "`range(5)`는 0부터 5 미만의 숫자 리스트를 의미하며, for문을 통해 요소를 하나씩 출력하였다.\n",
        "\n",
        "리스트 안에 `for`문을 포함하는 리스트 내포(List Comprehension)을 사용하면 더욱 직관적인 코딩이 가능하다."
      ]
    },
    {
      "cell_type": "code",
      "execution_count": 121,
      "id": "93f38307",
      "metadata": {
        "id": "93f38307"
      },
      "outputs": [],
      "source": [
        "a = [1, 2, 3]"
      ]
    },
    {
      "cell_type": "markdown",
      "id": "ebdab086",
      "metadata": {
        "id": "ebdab086"
      },
      "source": [
        "만일 위 값들의 제곱을 구하려면 어떻게 해야할까? 일반적인 for문을 사용한 코드는 다음과 같다."
      ]
    },
    {
      "cell_type": "code",
      "execution_count": 122,
      "id": "d81398d7",
      "metadata": {
        "colab": {
          "base_uri": "https://localhost:8080/"
        },
        "id": "d81398d7",
        "outputId": "b9952a30-364e-45ee-a7e5-f06946f2c725"
      },
      "outputs": [
        {
          "output_type": "stream",
          "name": "stdout",
          "text": [
            "[1, 4, 9]\n"
          ]
        }
      ],
      "source": [
        "result = []\n",
        "\n",
        "for i in a:\n",
        "    result.append(i**2)\n",
        "\n",
        "print(result)"
      ]
    },
    {
      "cell_type": "markdown",
      "id": "9f4fbf1a",
      "metadata": {
        "id": "9f4fbf1a"
      },
      "source": [
        "1. 빈 리스트(result)를 만든다.\n",
        "2. i에 요소를 하나씩 입력하여 제곱(`i**2`)을 구한 후, append를 이용해 리스트에 추가한다.\n",
        "3. 결과를 확인해보면 모든 요소의 제곱이 구해졌다.\n",
        "\n",
        "그러나 리스트 내포 안에 `if` 조건을 사용하면 위 코드를 훨씬 간단하게 나타낼 수 있다. 리스트 내포의 문법은 다음과 같다."
      ]
    },
    {
      "cell_type": "code",
      "execution_count": 123,
      "id": "7baf77f9",
      "metadata": {
        "deletable": false,
        "editable": false,
        "run_control": {
          "frozen": true
        },
        "colab": {
          "base_uri": "https://localhost:8080/",
          "height": 147
        },
        "id": "7baf77f9",
        "outputId": "ebf5a604-f924-462e-8207-937c5dd30c68"
      },
      "outputs": [
        {
          "output_type": "error",
          "ename": "SyntaxError",
          "evalue": "ignored",
          "traceback": [
            "\u001b[0;36m  File \u001b[0;32m\"<ipython-input-123-a5a916d9cf41>\"\u001b[0;36m, line \u001b[0;32m1\u001b[0m\n\u001b[0;31m    [실행 for 변수 in 리스트(또는 튜플, 문자열)]\u001b[0m\n\u001b[0m                      ^\u001b[0m\n\u001b[0;31mSyntaxError\u001b[0m\u001b[0;31m:\u001b[0m invalid syntax. Perhaps you forgot a comma?\n"
          ]
        }
      ],
      "source": [
        "[실행 for 변수 in 리스트(또는 튜플, 문자열)]"
      ]
    },
    {
      "cell_type": "markdown",
      "id": "e16b6907",
      "metadata": {
        "id": "e16b6907"
      },
      "source": [
        "이는 기존의 for문에서 위아래를 변경한 후, 리스트 내에 넣어 표현한 것이다. 실제 코드로 나타내면 다음과 같다."
      ]
    },
    {
      "cell_type": "code",
      "execution_count": 124,
      "id": "9d564f5d",
      "metadata": {
        "colab": {
          "base_uri": "https://localhost:8080/"
        },
        "id": "9d564f5d",
        "outputId": "f0e3ab73-41cf-4e14-f528-a25cd3409588"
      },
      "outputs": [
        {
          "output_type": "stream",
          "name": "stdout",
          "text": [
            "[1, 4, 9]\n"
          ]
        }
      ],
      "source": [
        "result = [i**2 for i in a]\n",
        "print(result)"
      ]
    },
    {
      "cell_type": "markdown",
      "id": "bafe2a18",
      "metadata": {
        "id": "bafe2a18"
      },
      "source": [
        "리스트 내포를 사용할 경우 기존의 for문에 비해 훨씬 간단하게 표현할 수 있다.\n",
        "\n",
        "### 오류에 대한 예외처리\n",
        "\n",
        "for문을 실행하던 중 오류가 발생하면 작업이 끊겨 루프를 처음부터 다시 실행해야 한다. 대상이 얼마되지 않는다면 큰 문제가 되지 않겠지만, 수십분 혹은 몇시간이 걸리는 작업을 하던 중 오류가 발생해 작업을 처음부터 다시 해야하는 것은 매우 비효율적이다. `try-except`문을 이용하면 예외처리, 즉 오류가 발생할 경우 이를 무시하고 넘어갈 수 있다.\n",
        "\n",
        "try-except문의 구조는 다음과 같다."
      ]
    },
    {
      "cell_type": "code",
      "execution_count": 125,
      "id": "99d819d4",
      "metadata": {
        "deletable": false,
        "editable": false,
        "run_control": {
          "frozen": true
        },
        "colab": {
          "base_uri": "https://localhost:8080/",
          "height": 520
        },
        "id": "99d819d4",
        "outputId": "9f9699b9-e506-48f2-ade6-691cb6f54c18"
      },
      "outputs": [
        {
          "output_type": "error",
          "ename": "NameError",
          "evalue": "ignored",
          "traceback": [
            "\u001b[0;31m---------------------------------------------------------------------------\u001b[0m",
            "\u001b[0;31mNameError\u001b[0m                                 Traceback (most recent call last)",
            "\u001b[0;32m<ipython-input-125-bea642bbe2ab>\u001b[0m in \u001b[0;36m<cell line: 1>\u001b[0;34m()\u001b[0m\n\u001b[1;32m      1\u001b[0m \u001b[0;32mtry\u001b[0m\u001b[0;34m:\u001b[0m\u001b[0;34m\u001b[0m\u001b[0;34m\u001b[0m\u001b[0m\n\u001b[0;32m----> 2\u001b[0;31m     \u001b[0mexpr\u001b[0m\u001b[0;34m\u001b[0m\u001b[0;34m\u001b[0m\u001b[0m\n\u001b[0m\u001b[1;32m      3\u001b[0m \u001b[0;32mexcept\u001b[0m\u001b[0;34m:\u001b[0m\u001b[0;34m\u001b[0m\u001b[0;34m\u001b[0m\u001b[0m\n",
            "\u001b[0;31mNameError\u001b[0m: name 'expr' is not defined",
            "\nDuring handling of the above exception, another exception occurred:\n",
            "\u001b[0;31mNameError\u001b[0m                                 Traceback (most recent call last)",
            "\u001b[0;32m<ipython-input-125-bea642bbe2ab>\u001b[0m in \u001b[0;36m<cell line: 1>\u001b[0;34m()\u001b[0m\n\u001b[1;32m      3\u001b[0m \u001b[0;32mexcept\u001b[0m\u001b[0;34m:\u001b[0m\u001b[0;34m\u001b[0m\u001b[0;34m\u001b[0m\u001b[0m\n\u001b[0;32m----> 4\u001b[0;31m     \u001b[0merror\u001b[0m\u001b[0;34m-\u001b[0m\u001b[0mhandler\u001b[0m\u001b[0;34m-\u001b[0m\u001b[0mcode\u001b[0m\u001b[0;34m\u001b[0m\u001b[0;34m\u001b[0m\u001b[0m\n\u001b[0m\u001b[1;32m      5\u001b[0m \u001b[0;32melse\u001b[0m\u001b[0;34m:\u001b[0m\u001b[0;34m\u001b[0m\u001b[0;34m\u001b[0m\u001b[0m\n",
            "\u001b[0;31mNameError\u001b[0m: name 'error' is not defined",
            "\nDuring handling of the above exception, another exception occurred:\n",
            "\u001b[0;31mNameError\u001b[0m                                 Traceback (most recent call last)",
            "\u001b[0;32m<ipython-input-125-bea642bbe2ab>\u001b[0m in \u001b[0;36m<cell line: 1>\u001b[0;34m()\u001b[0m\n\u001b[1;32m      6\u001b[0m     \u001b[0mrunning\u001b[0m\u001b[0;34m-\u001b[0m\u001b[0mcode\u001b[0m\u001b[0;34m\u001b[0m\u001b[0;34m\u001b[0m\u001b[0m\n\u001b[1;32m      7\u001b[0m \u001b[0;32mfinally\u001b[0m\u001b[0;34m:\u001b[0m\u001b[0;34m\u001b[0m\u001b[0;34m\u001b[0m\u001b[0m\n\u001b[0;32m----> 8\u001b[0;31m     \u001b[0mcleanup\u001b[0m\u001b[0;34m-\u001b[0m\u001b[0mcode\u001b[0m\u001b[0;34m\u001b[0m\u001b[0;34m\u001b[0m\u001b[0m\n\u001b[0m",
            "\u001b[0;31mNameError\u001b[0m: name 'cleanup' is not defined"
          ]
        }
      ],
      "source": [
        "try:\n",
        "    expr\n",
        "except:\n",
        "    error-handler-code\n",
        "else:\n",
        "    running-code\n",
        "finally:\n",
        "    cleanup-code"
      ]
    },
    {
      "cell_type": "markdown",
      "id": "3f58c10e",
      "metadata": {
        "id": "3f58c10e"
      },
      "source": [
        "1. try 내의 `expr`는 실행하고자 하는 코드를 의미한다.\n",
        "2. except 내의 `error-handler-code`는 오류 발생 시 실행할 코드를 의미한다.\n",
        "3. else 내의 `running-code`는 expr 코드가 문제가 없을 경우 실행되는 코드, finally 내의 `cleanup-code` 코드는 오류 여부와 관계 없이 무조건 수행할 구문을 의미하며, 이 둘은 생략할 수도 있다.\n",
        "\n",
        "예제를 통해 살펴보도록 하자."
      ]
    },
    {
      "cell_type": "code",
      "execution_count": 126,
      "id": "ce5ee6f8",
      "metadata": {
        "id": "ce5ee6f8"
      },
      "outputs": [],
      "source": [
        "number = [1, 2, 3, \"4\", 5]"
      ]
    },
    {
      "cell_type": "markdown",
      "id": "bf4028eb",
      "metadata": {
        "id": "bf4028eb"
      },
      "source": [
        "먼저 number 변수에는 1에서 5까지 값이 입력되어 있으며, 다른 값들은 형태가 숫자인 반면 4는 문자 형태다."
      ]
    },
    {
      "cell_type": "code",
      "execution_count": 127,
      "id": "1f5ac05c",
      "metadata": {
        "deletable": false,
        "editable": false,
        "run_control": {
          "frozen": true
        },
        "colab": {
          "base_uri": "https://localhost:8080/",
          "height": 258
        },
        "id": "1f5ac05c",
        "outputId": "7db3b93b-abaf-4a48-a949-2190ce84c686"
      },
      "outputs": [
        {
          "output_type": "stream",
          "name": "stdout",
          "text": [
            "1\n",
            "4\n",
            "9\n"
          ]
        },
        {
          "output_type": "error",
          "ename": "TypeError",
          "evalue": "ignored",
          "traceback": [
            "\u001b[0;31m---------------------------------------------------------------------------\u001b[0m",
            "\u001b[0;31mTypeError\u001b[0m                                 Traceback (most recent call last)",
            "\u001b[0;32m<ipython-input-127-b012ccc66deb>\u001b[0m in \u001b[0;36m<cell line: 1>\u001b[0;34m()\u001b[0m\n\u001b[1;32m      1\u001b[0m \u001b[0;32mfor\u001b[0m \u001b[0mi\u001b[0m \u001b[0;32min\u001b[0m \u001b[0mnumber\u001b[0m\u001b[0;34m:\u001b[0m\u001b[0;34m\u001b[0m\u001b[0;34m\u001b[0m\u001b[0m\n\u001b[0;32m----> 2\u001b[0;31m     \u001b[0mprint\u001b[0m\u001b[0;34m(\u001b[0m\u001b[0mi\u001b[0m \u001b[0;34m**\u001b[0m \u001b[0;36m2\u001b[0m\u001b[0;34m)\u001b[0m\u001b[0;34m\u001b[0m\u001b[0;34m\u001b[0m\u001b[0m\n\u001b[0m",
            "\u001b[0;31mTypeError\u001b[0m: unsupported operand type(s) for ** or pow(): 'str' and 'int'"
          ]
        }
      ],
      "source": [
        "for i in number:\n",
        "    print(i ** 2)"
      ]
    },
    {
      "cell_type": "markdown",
      "id": "15ab44da",
      "metadata": {
        "id": "15ab44da"
      },
      "source": [
        "```{figure} image/python/loop_error.png\n",
        "---\n",
        "name: loop_error\n",
        "---\n",
        "```\n",
        "\n",
        "for문을 통해 순서대로 값들의 제곱을 출력하는 명령어를 실행하면 '문자 4'는 제곱을 할 수 없어 오류가 발생한다. try-except문을 사용하면 이처럼 오류가 발생하는 루프를 무시하고 다음 루프로 넘어갈 수 있다."
      ]
    },
    {
      "cell_type": "code",
      "execution_count": 128,
      "id": "ea4dbfb3",
      "metadata": {
        "colab": {
          "base_uri": "https://localhost:8080/"
        },
        "id": "ea4dbfb3",
        "outputId": "458711f7-9cef-4a7b-fc25-7c9e62da2799"
      },
      "outputs": [
        {
          "output_type": "stream",
          "name": "stdout",
          "text": [
            "1\n",
            "4\n",
            "9\n",
            "Error at: 4\n",
            "25\n"
          ]
        }
      ],
      "source": [
        "for i in number:\n",
        "    try:\n",
        "        print(i ** 2)\n",
        "    except:\n",
        "        print('Error at: ' + i)"
      ]
    },
    {
      "cell_type": "markdown",
      "id": "d3633892",
      "metadata": {
        "id": "d3633892"
      },
      "source": [
        "## 함수\n",
        "\n",
        "중고등학교 수학시간에 우리는 함수라는 개념을 배웠다. $y=f(x)$라는 수식이 있을 때 $x$라는 값을 $f()$라는 함수에 입력하면 $y$라는 결과값이 나온다. 예를 들어 다음과 같은 함수가 있다고 생각해보자.\n",
        "\n",
        "$$y = 2x + 1$$\n",
        "\n",
        "만일 $x$에 1을 넣으면 결과는 $2×1 + 1 = 3$ 이며, $x$에 2를 넣으면 결과는 $2×2 + 1 = 5$ 이다.\n",
        "\n",
        "```{figure} image/python/fun.png\n",
        "---\n",
        "name: fun\n",
        "---\n",
        "함수\n",
        "```\n",
        "\n",
        "프로그래밍에서의 함수도 이와 비슷하다. 어떠한 입력값을 함수에 넣으면 이를 토대로 코드가 돌아가고, 그 결과를 반환한다. 함수를 사용하는 이유는 중복된 코드를 계속해서 작성하지 않기 위해서다. 만일 반복적으로 사용하는 코드가 있다면 이를 매번 적기 보다는 함수로 만들어두고, 필요할 때마다 함수를 사용하는 것이 효과적이다.\n",
        "\n",
        "우리는 앞서 `print()`와 같이 수많은 함수를 이미 사용했다. 이처럼 가장 이상적인 방법은 기존에 누군가 작성한 패키지 혹은 함수를 찾아 이용하는 것이지만, 그렇지 못할 경우에도 나만의 함수를 쉽게 만들어 사용할 수 있다. 파이썬에서 함수를 만드는 법은 다음과 같다."
      ]
    },
    {
      "cell_type": "code",
      "execution_count": null,
      "id": "f8fe6b51",
      "metadata": {
        "deletable": false,
        "editable": false,
        "run_control": {
          "frozen": true
        },
        "id": "f8fe6b51"
      },
      "outputs": [],
      "source": [
        "def f(x):\n",
        "    statement\n",
        "    return y"
      ]
    },
    {
      "cell_type": "markdown",
      "id": "6399a920",
      "metadata": {
        "id": "6399a920"
      },
      "source": [
        "1. def 키워드를 통해 함수임을 선언한다.\n",
        "2. f는 함수명을 뜻한다.\n",
        "3. x는 함수에 들어가는 매개변수(Parameter)를 뜻한다.\n",
        "4. 줄을 바꾼 후 들여쓰기를 한다.\n",
        "5. statement에 해당하는 코드가 실행된다.\n",
        "6. return 뒤에 적은 y가 반환되며, 함수가 종료된다.\n",
        "\n",
        "예시로 제곱근을 계산하는 함수를 만들어보자."
      ]
    },
    {
      "cell_type": "code",
      "execution_count": null,
      "id": "1f44e884",
      "metadata": {
        "id": "1f44e884"
      },
      "outputs": [],
      "source": [
        "def sqrt(x):\n",
        "    res = x**(1 / 2)\n",
        "    return res"
      ]
    },
    {
      "cell_type": "code",
      "execution_count": null,
      "id": "03aca3f0",
      "metadata": {
        "id": "03aca3f0"
      },
      "outputs": [],
      "source": [
        "sqrt(4)"
      ]
    },
    {
      "cell_type": "code",
      "execution_count": null,
      "id": "c05ce0e1",
      "metadata": {
        "id": "c05ce0e1"
      },
      "outputs": [],
      "source": [
        "sqrt(9)"
      ]
    },
    {
      "cell_type": "markdown",
      "id": "5e69982c",
      "metadata": {
        "id": "5e69982c"
      },
      "source": [
        "1. def를 통해 함수를 선언하며, 함수명은 sqrt로 한다.\n",
        "2. 매개변수는 x 하나가 사용된다.\n",
        "3. x ** (1/2)은 $x^{\\frac{1}{2}}$를 뜻하며, 즉 제곱근을 구한다. 이를 res라는 변수에 저장한다.\n",
        "4. 최종적으로 res를 반환한다.\n",
        "\n",
        "만들어진 함수에 4와 9라는 숫자를 넣으면 각각의 제곱근인 2와 3을 출력된다. 참고로 함수에 입력한 4와 9처럼 함수를 호출할 때 전달하는 입력값은 인자(Argument) 혹은 인수라 한다.\n",
        "\n",
        "이번에는 매개변수가 여러개인 함수를 만들어보도록 하자."
      ]
    },
    {
      "cell_type": "code",
      "execution_count": null,
      "id": "539b6f2f",
      "metadata": {
        "id": "539b6f2f"
      },
      "outputs": [],
      "source": [
        "def multiply(x, y):\n",
        "    res = x**y\n",
        "    return res"
      ]
    },
    {
      "cell_type": "code",
      "execution_count": null,
      "id": "e3f80ec3",
      "metadata": {
        "id": "e3f80ec3"
      },
      "outputs": [],
      "source": [
        "multiply(x = 3, y = 4)"
      ]
    },
    {
      "cell_type": "code",
      "execution_count": null,
      "id": "0f5ab8c2",
      "metadata": {
        "id": "0f5ab8c2"
      },
      "outputs": [],
      "source": [
        "multiply(5, 2)"
      ]
    },
    {
      "cell_type": "markdown",
      "id": "7d9dd2a3",
      "metadata": {
        "id": "7d9dd2a3"
      },
      "source": [
        "매개변수로 x와 y 두개가 사용되었으며, $x^y$를 구하는 함수인 `multiply()`를 만들었다. `multiply(x = 3, y = 4)`와 같이 각 매개변수에 대응되는 인자를 직접 지정할 수도 있지만, `multiply(5, 2)`와 같이 인자만 입력하면 함수에서 정의한 순서에 따라 x에는 5, y에는 2가 대입되어 계산이 된다."
      ]
    },
    {
      "cell_type": "code",
      "execution_count": null,
      "id": "5e07ca41",
      "metadata": {
        "id": "5e07ca41"
      },
      "outputs": [],
      "source": [
        "def divide(x, n=2):\n",
        "    res = x / n\n",
        "    return (res)"
      ]
    },
    {
      "cell_type": "code",
      "execution_count": null,
      "id": "9a61cf7e",
      "metadata": {
        "id": "9a61cf7e"
      },
      "outputs": [],
      "source": [
        "divide(3)"
      ]
    },
    {
      "cell_type": "code",
      "execution_count": null,
      "id": "0be37aea",
      "metadata": {
        "id": "0be37aea"
      },
      "outputs": [],
      "source": [
        "divide(6, 3)"
      ]
    },
    {
      "cell_type": "markdown",
      "id": "c8bb7442",
      "metadata": {
        "id": "c8bb7442"
      },
      "source": [
        "## 패키지 사용하기\n",
        "\n",
        "패키지(package)는 기능이 비슷한 여러 함수들이 모여있는 꾸러미라고 볼 수 있으며, 파이썬이 사랑받는 이유 중 하나는 오픈 소스 생태계로 인해 다양한 패키지가 있다는 점도 크다. 전 세계의 사람들이 패키지를 만들어 온라인에 공개하고 있으며, 누구든지 이를 쉽게 다운로드 받아 사용할 수 있다. 파이썬 패키지를 공유하는 소프트웨어 저장소 PyPI(pypi.org)에는 39만개가 넘는 패키지가 공개되어 있다(2022년 8월 기준). 즉 복잡하게 코드를 짜지 않아도 기존의 패키지를 잘만 이용하면 매우 쉽게 개발 혹은 데이터 분석을 할 수 있다.\n",
        "\n",
        "아나콘다에는 사람들이 자주 쓰는 주요 패키지가 대부분 들어있으므로(2022년 8월 기준 678개), 해당 패키지들의 경우 별도의 설치 과정이 없이 바로 사용할 수 있다. 아나콘다에 들어 있는 패키지 목록은 아래 페이지에서 확인할 수 있다.\n",
        "\n",
        "```\n",
        "https://docs.anaconda.com/anaconda/packages/py3.9_win-64/\n",
        "```\n",
        "\n",
        "패키지에 있는 함수를 사용하기 위해서는 **[패키지 설치 → 패키지 불러오기 → 함수 사용]** 의 단계를 거친다. 패키지는 한 번만 설치하면 되지만, 불러오는 작업은 파이썬을 새로 열때마다 반복해야 한다.\n",
        "\n",
        "아나콘다에 포함되지 않은 패키지를 사용하기 위해서는 먼저 패키지를 설치해야 한다. 예로써 동적 크롤링에 사용되는 selenium 패키지를 설치해보도록 하자. 패키지를 설치하기 위해서는 아나콘다 프롬프트를 이용하면 된다. 윈도우의 경우 시작 메뉴를 클릭한 후 [Anaconda Prompt]를 검색한 후 실행한다.\n",
        "\n",
        "```{figure} image/quant_intro/prompt.png\n",
        "---\n",
        "name: prompt\n",
        "---\n",
        "아나콘다 프롬프트 검색 및 실행\n",
        "```\n",
        "\n",
        "프롬프트에서 `pip install 패키지명`을 입력하면 패키지를 설치한다."
      ]
    },
    {
      "cell_type": "code",
      "execution_count": 129,
      "id": "fa553e16",
      "metadata": {
        "deletable": false,
        "editable": false,
        "run_control": {
          "frozen": true
        },
        "colab": {
          "base_uri": "https://localhost:8080/"
        },
        "id": "fa553e16",
        "outputId": "6a84f8d9-8349-4247-8cd2-9e296695668b"
      },
      "outputs": [
        {
          "output_type": "stream",
          "name": "stdout",
          "text": [
            "Collecting selenium\n",
            "  Downloading selenium-4.11.2-py3-none-any.whl (7.2 MB)\n",
            "\u001b[?25l     \u001b[90m━━━━━━━━━━━━━━━━━━━━━━━━━━━━━━━━━━━━━━━━\u001b[0m \u001b[32m0.0/7.2 MB\u001b[0m \u001b[31m?\u001b[0m eta \u001b[36m-:--:--\u001b[0m\r\u001b[2K     \u001b[91m━\u001b[0m\u001b[90m╺\u001b[0m\u001b[90m━━━━━━━━━━━━━━━━━━━━━━━━━━━━━━━━━━━━━━\u001b[0m \u001b[32m0.2/7.2 MB\u001b[0m \u001b[31m6.1 MB/s\u001b[0m eta \u001b[36m0:00:02\u001b[0m\r\u001b[2K     \u001b[91m━━━━━━━━\u001b[0m\u001b[90m╺\u001b[0m\u001b[90m━━━━━━━━━━━━━━━━━━━━━━━━━━━━━━━\u001b[0m \u001b[32m1.5/7.2 MB\u001b[0m \u001b[31m22.4 MB/s\u001b[0m eta \u001b[36m0:00:01\u001b[0m\r\u001b[2K     \u001b[91m━━━━━━━━━━━━━━━━━━━━━━━━━━━━━━━━━━━━━━━\u001b[0m\u001b[91m╸\u001b[0m \u001b[32m7.2/7.2 MB\u001b[0m \u001b[31m71.2 MB/s\u001b[0m eta \u001b[36m0:00:01\u001b[0m\r\u001b[2K     \u001b[90m━━━━━━━━━━━━━━━━━━━━━━━━━━━━━━━━━━━━━━━━\u001b[0m \u001b[32m7.2/7.2 MB\u001b[0m \u001b[31m58.5 MB/s\u001b[0m eta \u001b[36m0:00:00\u001b[0m\n",
            "\u001b[?25hRequirement already satisfied: urllib3[socks]<3,>=1.26 in /usr/local/lib/python3.10/dist-packages (from selenium) (2.0.4)\n",
            "Collecting trio~=0.17 (from selenium)\n",
            "  Downloading trio-0.22.2-py3-none-any.whl (400 kB)\n",
            "\u001b[2K     \u001b[90m━━━━━━━━━━━━━━━━━━━━━━━━━━━━━━━━━━━━━━\u001b[0m \u001b[32m400.2/400.2 kB\u001b[0m \u001b[31m34.6 MB/s\u001b[0m eta \u001b[36m0:00:00\u001b[0m\n",
            "\u001b[?25hCollecting trio-websocket~=0.9 (from selenium)\n",
            "  Downloading trio_websocket-0.10.3-py3-none-any.whl (17 kB)\n",
            "Requirement already satisfied: certifi>=2021.10.8 in /usr/local/lib/python3.10/dist-packages (from selenium) (2023.7.22)\n",
            "Requirement already satisfied: attrs>=20.1.0 in /usr/local/lib/python3.10/dist-packages (from trio~=0.17->selenium) (23.1.0)\n",
            "Requirement already satisfied: sortedcontainers in /usr/local/lib/python3.10/dist-packages (from trio~=0.17->selenium) (2.4.0)\n",
            "Requirement already satisfied: idna in /usr/local/lib/python3.10/dist-packages (from trio~=0.17->selenium) (3.4)\n",
            "Collecting outcome (from trio~=0.17->selenium)\n",
            "  Downloading outcome-1.2.0-py2.py3-none-any.whl (9.7 kB)\n",
            "Requirement already satisfied: sniffio in /usr/local/lib/python3.10/dist-packages (from trio~=0.17->selenium) (1.3.0)\n",
            "Requirement already satisfied: exceptiongroup>=1.0.0rc9 in /usr/local/lib/python3.10/dist-packages (from trio~=0.17->selenium) (1.1.3)\n",
            "Collecting wsproto>=0.14 (from trio-websocket~=0.9->selenium)\n",
            "  Downloading wsproto-1.2.0-py3-none-any.whl (24 kB)\n",
            "Requirement already satisfied: pysocks!=1.5.7,<2.0,>=1.5.6 in /usr/local/lib/python3.10/dist-packages (from urllib3[socks]<3,>=1.26->selenium) (1.7.1)\n",
            "Collecting h11<1,>=0.9.0 (from wsproto>=0.14->trio-websocket~=0.9->selenium)\n",
            "  Downloading h11-0.14.0-py3-none-any.whl (58 kB)\n",
            "\u001b[2K     \u001b[90m━━━━━━━━━━━━━━━━━━━━━━━━━━━━━━━━━━━━━━━━\u001b[0m \u001b[32m58.3/58.3 kB\u001b[0m \u001b[31m8.3 MB/s\u001b[0m eta \u001b[36m0:00:00\u001b[0m\n",
            "\u001b[?25hInstalling collected packages: outcome, h11, wsproto, trio, trio-websocket, selenium\n",
            "Successfully installed h11-0.14.0 outcome-1.2.0 selenium-4.11.2 trio-0.22.2 trio-websocket-0.10.3 wsproto-1.2.0\n"
          ]
        }
      ],
      "source": [
        "pip install selenium"
      ]
    },
    {
      "cell_type": "markdown",
      "id": "8fa2345e",
      "metadata": {
        "id": "8fa2345e"
      },
      "source": [
        "```{figure} image/python/selenium.png\n",
        "---\n",
        "name: selenium\n",
        "---\n",
        "selenium 패키지 다운로드\n",
        "```\n",
        "\n",
        "코드를 실행하면 파이썬 패키지 저장소 PyPI(pypi.org)에서 패키지 관련 파일을 다운로드해 하드디스크에 설치하는 과정이 프롬프트에 출력된다. 만일 패키지 설치 중 'Proceed (y/n)?' 라는 메시지가 나오면 'y'를 입력하고 엔터를 누르면 된다\n",
        "\n",
        "아나콘다에 포함되어있는 패키지 외에 본 책의 이해를 위해 추가적으로 설치해야 하는 패키지는 다음과 같다.\n",
        "\n",
        "- selenium\n",
        "- webdriver_manager\n",
        "- tiingo\n",
        "- yahoo_fin\n",
        "- xmltodict\n",
        "- pandas_datareader\n",
        "- riskfolio-lib\n",
        "- bt\n",
        "- schedule\n",
        "\n",
        "다운로드 받은 패키지를 사용하기 위해서는 이를 불러와야 한다. 패키지는 파이썬 스크립트에서 `import 패키지이름`을 통해 불러올 수 있다. 예를 들어 pandas 패키지를 불러오는 방법은 다음과 같다."
      ]
    },
    {
      "cell_type": "code",
      "execution_count": null,
      "id": "4f29958f",
      "metadata": {
        "id": "4f29958f"
      },
      "outputs": [],
      "source": [
        "import pandas"
      ]
    },
    {
      "cell_type": "markdown",
      "id": "eb28312e",
      "metadata": {
        "id": "eb28312e"
      },
      "source": [
        "패키지 이름은 해당 패키지 내의 함수들을 사용할 때 계속해서 사용된다. 만일 패키지 이름이 너무 길면 이를 매번 입력하는것이 불편하기 때문에 `import 패키지이름 as 패키지별명` 형태로 불러올 수 있다. pandas 패키지는 일반적으로 pd로 별명을 지정한다."
      ]
    },
    {
      "cell_type": "code",
      "execution_count": null,
      "id": "dcda4ca6",
      "metadata": {
        "id": "dcda4ca6"
      },
      "outputs": [],
      "source": [
        "import pandas as pd"
      ]
    },
    {
      "cell_type": "markdown",
      "id": "d4cb93b8",
      "metadata": {
        "id": "d4cb93b8"
      },
      "source": [
        "불러온 패키지 안의 내용을 살펴볼 때는 `dir(패키지이름)` 혹은 `dir(패키지별명)`을 입력한다."
      ]
    },
    {
      "cell_type": "code",
      "execution_count": null,
      "id": "80e65df2",
      "metadata": {
        "id": "80e65df2"
      },
      "outputs": [],
      "source": [
        "import selenium\n",
        "dir(selenium)"
      ]
    },
    {
      "cell_type": "markdown",
      "id": "877c0395",
      "metadata": {
        "id": "877c0395"
      },
      "source": [
        "많은 패키지들은 하위 패키지를 가지고 있다. 하위 패키지 중에는 상위 패키지를 불러올 때 자동으로 불러오지만 것이 있지만 그렇지 않는 것도 있다. 자동으로 불러오지 않는 하위 패키지는 다음처럼 수동으로 불러와야 한다."
      ]
    },
    {
      "cell_type": "code",
      "execution_count": null,
      "id": "fa77085c",
      "metadata": {
        "id": "fa77085c"
      },
      "outputs": [],
      "source": [
        "import selenium.webdriver\n",
        "dir(selenium.webdriver)[1:20]"
      ]
    },
    {
      "cell_type": "markdown",
      "id": "9f34dbfd",
      "metadata": {
        "id": "9f34dbfd"
      },
      "source": [
        "패키지의 함수를 사용하기 위해서는 `패키지이름.함수()` 혹은 `패키지별명.함수()`를 입력한다."
      ]
    },
    {
      "cell_type": "code",
      "execution_count": null,
      "id": "47018056",
      "metadata": {
        "id": "47018056"
      },
      "outputs": [],
      "source": [
        "import seaborn as sns\n",
        "\n",
        "iris = sns.load_dataset('iris')\n",
        "iris"
      ]
    },
    {
      "cell_type": "markdown",
      "id": "24e37f31",
      "metadata": {
        "id": "24e37f31"
      },
      "source": [
        "먼저 seaborn 패키지를 sns라는 별명으로 불러온 후, 데이터셋을 불러오는 함수인 `load_dataset()`을 이용해 'iris' 데이터셋을 불러왔다.\n",
        "\n",
        "패키지를 불러올때 모든 함수를 불러오는 것이 아닌 특정 함수만 선택해서 불러올 수도 있다. 이는 `from 패키지이름 import 함수` 혹은 `from 패키지이름 import 함수1, 함수2, 함수3` 형태로 불러온다."
      ]
    },
    {
      "cell_type": "code",
      "execution_count": null,
      "id": "b12e1934",
      "metadata": {
        "id": "b12e1934"
      },
      "outputs": [],
      "source": [
        "from seaborn import load_dataset\n",
        "load_dataset('iris')"
      ]
    },
    {
      "cell_type": "markdown",
      "id": "6b1ab182",
      "metadata": {
        "id": "6b1ab182"
      },
      "source": [
        "이번에는 seaborn 패키지에서 `load_dataset()` 함수만 불러왔다. 이처럼 특정 함수만 불러온 경우, 함수명 앞에 패키지이름을 붙여주지 않아도 함수가 작동한다. 만일 한번에 모든 함수를 불러오고 싶을 때는 `from 패키지이름 import *` 를 입력하면 된다.\n",
        "\n",
        "### 함수와 메서드의 차이\n",
        "\n",
        "파이썬 관련 책을 살펴보면 똑같이 `something()` 형태로 생겼지만 어떤 것은 함수, 어떤 것은 메서드라 불린다. 먼저 함수는 특정 기능을 수행하는 역할을 하며, 각 함수마다 나름의 기능을 가지고 있다. 예를 들어 파이썬의 내장 함수인 `sum()`은 합계를 구한다."
      ]
    },
    {
      "cell_type": "code",
      "execution_count": null,
      "id": "b425be03",
      "metadata": {
        "id": "b425be03"
      },
      "outputs": [],
      "source": [
        "sum([1, 2])"
      ]
    },
    {
      "cell_type": "markdown",
      "id": "a855f2c1",
      "metadata": {
        "id": "a855f2c1"
      },
      "source": [
        "특정 패키지에서 제공하는 함수도 있다. pandas의 `DataFrame()` 함수는 데이터프레임을 만드는 역할을 한다."
      ]
    },
    {
      "cell_type": "code",
      "execution_count": null,
      "id": "bf72da87",
      "metadata": {
        "id": "bf72da87"
      },
      "outputs": [],
      "source": [
        "import pandas as pd\n",
        "df = pd.DataFrame({'x' : [1,2,3]})\n",
        "\n",
        "df"
      ]
    },
    {
      "cell_type": "markdown",
      "id": "0e45566d",
      "metadata": {
        "id": "0e45566d"
      },
      "source": [
        "반면 메서드는 클래스 및 객체와 연관되어 있는 함수다. `info()` 메서드는 위에서 만든 데이터프레임 객체의 정보를 보여준다."
      ]
    },
    {
      "cell_type": "code",
      "execution_count": null,
      "id": "37fb24ce",
      "metadata": {
        "id": "37fb24ce"
      },
      "outputs": [],
      "source": [
        "df.info()"
      ]
    },
    {
      "cell_type": "markdown",
      "id": "cacfaa8e",
      "metadata": {
        "id": "cacfaa8e"
      },
      "source": [
        "각 객체 혹은 자료 구조에 따라 사용할 수 있는 메서드가 다르다. `info()` 메서드는 데이터프레임에는 사용할 수 있지만, 리스트 객체에는 사용할 수 없다."
      ]
    },
    {
      "cell_type": "code",
      "execution_count": null,
      "id": "d4ca84e1",
      "metadata": {
        "deletable": false,
        "editable": false,
        "run_control": {
          "frozen": true
        },
        "id": "d4ca84e1"
      },
      "outputs": [],
      "source": [
        "lst = [1,2,3]\n",
        "lst.info()"
      ]
    },
    {
      "cell_type": "markdown",
      "id": "e5f57dcc",
      "metadata": {
        "id": "e5f57dcc"
      },
      "source": [
        "```{figure} image/quant_intro/list_error.png\n",
        "---\n",
        "name: list_error\n",
        "---\n",
        "```\n",
        "\n",
        "위 코드를 실행하면 **AttributeError: 'list' object has no attribute 'info'** 라는 에러가 뜬다. list 객체는 `info()` 매서드를 보유하고 있지 않아 에러가 발생하는 것이다. 즉 함수는 `sum()`, `pd.DataFrame()`과 같이 독립적으로 사용되는 반면, 메서드는 a라는 특정 객체가 존재할 때 `a.head()`, `a.info()`와 같은 형태로 사용된다."
      ]
    }
  ],
  "metadata": {
    "kernelspec": {
      "display_name": "Python 3 (ipykernel)",
      "language": "python",
      "name": "python3"
    },
    "language_info": {
      "codemirror_mode": {
        "name": "ipython",
        "version": 3
      },
      "file_extension": ".py",
      "mimetype": "text/x-python",
      "name": "python",
      "nbconvert_exporter": "python",
      "pygments_lexer": "ipython3",
      "version": "3.9.13"
    },
    "varInspector": {
      "cols": {
        "lenName": 16,
        "lenType": 16,
        "lenVar": 40
      },
      "kernels_config": {
        "python": {
          "delete_cmd_postfix": "",
          "delete_cmd_prefix": "del ",
          "library": "var_list.py",
          "varRefreshCmd": "print(var_dic_list())"
        },
        "r": {
          "delete_cmd_postfix": ") ",
          "delete_cmd_prefix": "rm(",
          "library": "var_list.r",
          "varRefreshCmd": "cat(var_dic_list()) "
        }
      },
      "types_to_exclude": [
        "module",
        "function",
        "builtin_function_or_method",
        "instance",
        "_Feature"
      ],
      "window_display": false
    },
    "colab": {
      "provenance": []
    }
  },
  "nbformat": 4,
  "nbformat_minor": 5
}